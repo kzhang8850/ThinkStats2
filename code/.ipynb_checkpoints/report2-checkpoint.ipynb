{
 "cells": [
  {
   "cell_type": "markdown",
   "metadata": {},
   "source": [
    "# What's the Chance you will Die from a Terrorist Attack?\n",
    "\n",
    "### Kevin Zhang\n",
    "\n",
    "Data Science Spring 2017\n",
    "\n",
    "3/24/2017\n",
    "\n",
    "#### Documentation/Reference/Works Cited\n",
    "\n",
    "Terrorism Data Source:\n",
    "https://www.start.umd.edu/gtd/\n",
    "\n",
    "Terrorism Data Documentation, Variables, Legend:\n",
    "https://www.start.umd.edu/gtd/downloads/Codebook.pdf\n",
    "\n",
    "World Bank Data Source:\n",
    "http://data.worldbank.org/indicator/SP.POP.TOTL\n",
    "\n",
    "For your reference in regards to the size of the numbers found in this report (crediblity not confirmed):\n",
    "http://www.alternet.org/personal-health/20-things-are-most-likely-kill-you-hint-not-sharks-or-terrorists"
   ]
  },
  {
   "cell_type": "markdown",
   "metadata": {},
   "source": [
    "## About this Notebook\n",
    "\n",
    "This notebook contains all the source code for the data science report done for the question on what the chances are that a given person will be affected by terrorism in North America, and how that compares to the chances of a person in the Middle East. Especially recently, there has a rise of \"terrorist\" acts, leading to people becoming more increasly fearful and paranoic about Middle Eastern citizens or people associated with countries from the Middle East. Fear of terrorism also grips some parts of the US, as people are irrationally afraid they might be next. I was hoping to see what the chances of being hit by terrorism truly is for the average person in US society, and to compare the chance to that of the Middle East to see if it truly is any worse, and if so, how much worse. Perhaps what I find might be of some use to the Middle Eastern community and to people in general around the world.\n",
    "\n",
    "The code below outlines my methodology for gathering, cleaning, and analyzing the data. Basically, I found a dataset from the Global Terrorism database, which is the most comprehensive database that includes virtually all recorded instances of terrorist attacks around the world from the 1970s to 2015. I also found a database for world population by countries from the World Bank, from the 1960s to present. I decided to focus specifically on North America and Middle East as regions because I'm from the US, and because the Middle East is currently the center of the terror zone, where civil war, terrorist groups, death, and chaos abound. The US is also generally considered the herald of national security and justice on the war against terrorism, so I thought it would make for a good comparison. Inside the GTD database, I found data for a given incident including the number killed, injured, whether property damage occured, and whether a hostage situation developed. I also found data on the region populations of interest from the World Bank. Putting these two together, I decided to find a chance per capita of being hit by terrorism based on the criterions of being killed, injured, a victim of property damage, or a hostage victim for North America (NA) and the Middle East (ME). Terrorism will include both foreign and domestic.\n",
    "\n",
    "The main concepts used for analysis were Pmfs, time series analysis, and probabilistic analysis, which were deemed accurate enough for the purposes of this project. \n",
    "\n",
    "The overall result is that the ME's chances of being hit by a terrorist attack is higher than that of NA, on the order of one or two magnitudes. Thus there is some reasoning for why so many people are afraid and discriminatory towards the ME, because there is a lot of terrorism going on over there. However, looking at NA's chances, they are virtually  0, with chances being in the 1 in several millions range, so in reality, Americans don't much need to worry about being attacked by a terrorist, even if there is a lot of it happening overseas. In addition, looking at the ME chance in vacuum, it is also quite low. Looking at the reference website shown above (which has unconfirmed credibility, but just to give an idea of how small the number is), a person is more likely to get hit by an earthquake or die by drowning than get hit by a terrorist attack in the ME. As such, the data suggests that there is some cause for concern towards the Middle East, but moreover it says that Americans have nothing to be afraid of, and that the discrimination and prejudice towards people associated with Middle East countries might have irrational foundations.\n",
    "\n",
    "For a full breakdown of the code, feel free to continue reading."
   ]
  },
  {
   "cell_type": "markdown",
   "metadata": {},
   "source": [
    "### Imports and Method Declarations"
   ]
  },
  {
   "cell_type": "code",
   "execution_count": 76,
   "metadata": {
    "collapsed": false
   },
   "outputs": [],
   "source": [
    "%matplotlib inline\n",
    "\n",
    "import numpy as np\n",
    "import pandas as pd\n",
    "import random\n",
    "import thinkstats2\n",
    "import thinkplot\n",
    "import statsmodels.formula.api as smf\n"
   ]
  },
  {
   "cell_type": "code",
   "execution_count": 77,
   "metadata": {
    "collapsed": true
   },
   "outputs": [],
   "source": [
    "def clean_dataframe(df):\n",
    "    \"\"\"\n",
    "    Takes the entire Pandas dataframe and cleans out all bad responses associated with the data that I am specifically\n",
    "    looking to by replacing them with NaNs. \n",
    "    \n",
    "    Then cleans out nans for usage in regression and other analysis.\n",
    "    \n",
    "    Input: Pandas dataframe\n",
    "    Output: dataframe that has been cleaned out\n",
    "    \"\"\"\n",
    "    #first replace \"bad\" responses with nans\n",
    "    df.property.replace([-9], np.nan, inplace=True)\n",
    "    df.ishostkid.replace([-9], np.nan, inplace=True)\n",
    "    \n",
    "    #then remove all nans from variables of interest\n",
    "    df['propdmg'] = df.property.dropna()\n",
    "    df['wounded'] = df.nwound.dropna()\n",
    "    df['fatals'] = df.nkill.dropna()\n",
    "    df['hostages'] = df.ishostkid.dropna()\n",
    "    \n",
    "    return df"
   ]
  },
  {
   "cell_type": "code",
   "execution_count": 78,
   "metadata": {
    "collapsed": true
   },
   "outputs": [],
   "source": [
    "def make_and_plot_pmf(series, label):\n",
    "    \"\"\"\n",
    "    Takes a category and makes a pmf. Then also plots the pmf using hist.\n",
    "    \n",
    "    Input: Category string\n",
    "    Output: pmf plot\n",
    "    \"\"\"\n",
    "    series_pmf = thinkstats2.Pmf(series, label=label)\n",
    "    thinkplot.Pmf(series_pmf)\n",
    "    thinkplot.Config(xlabel=label, ylabel=\"pmf\", loc=\"upper right\")\n"
   ]
  },
  {
   "cell_type": "code",
   "execution_count": 79,
   "metadata": {
    "collapsed": true
   },
   "outputs": [],
   "source": [
    "def get_world_pop(terrorism, worldpop):\n",
    "    \"\"\"\n",
    "    Takes in the world population database and parses out all the countries/regions needed for calculation in the\n",
    "    per capita method\n",
    "    \n",
    "    Input: GTD database, World Bank database\n",
    "    Output: list of all the countries and regions properly parsed\n",
    "    \"\"\"\n",
    "    #these three represent the NA region in population\n",
    "    us = worldpop[worldpop['Country Name']=='United States']\n",
    "    mexico = worldpop[worldpop['Country Name']=='Canada']\n",
    "    canada = worldpop[worldpop['Country Name']=='Mexico']\n",
    "\n",
    "    #these represent the ME region in population. Note that some extra countries are parsed to account for \n",
    "    #discrepancies in what \"MENA\" means for the World Bank and for the GTA database.\n",
    "    MENA = worldpop[worldpop['Country Name']=='Middle East & North Africa']\n",
    "    oman = worldpop[worldpop['Country Name']=='Oman']\n",
    "    djibouti = worldpop[worldpop['Country Name']=='Djibouti']\n",
    "    turkey = worldpop[worldpop['Country Name']=='Turkey']\n",
    "    \n",
    "    #the two regions of interest in the terrorism database\n",
    "    NA = terrorism[terrorism.region == 1]\n",
    "    ME = terrorism[terrorism.region == 10]\n",
    "    \n",
    "    return us, mexico, canada, MENA, oman, djibouti, turkey, NA, ME\n"
   ]
  },
  {
   "cell_type": "code",
   "execution_count": 96,
   "metadata": {
    "collapsed": true
   },
   "outputs": [],
   "source": [
    "def calculate_per_capita(category1, category2, worldpop, terrorism, title):\n",
    "    \"\"\"\n",
    "    Calculates the probability per capita that a person will be affected by some category from a terrorist attack.\n",
    "    Spans from 1970 to 2015, each year calculated individually and then graphed.\n",
    "    \n",
    "    Input: Category string, Category string, World Bank database \n",
    "    Output: per capita plot over time, NAeffect, MEeffect\n",
    "    \"\"\"\n",
    "    #get the region data\n",
    "    us, mexico, canada, MENA, oman, djibouti, turkey, NA, ME = get_world_pop(terrorism, worldpop)\n",
    "    \n",
    "    #iterate over all years and calculate the probability for each year for each category\n",
    "    years = np.arange(1970, 2016)\n",
    "    NAeffect = {}\n",
    "    MEeffect = {}\n",
    "    for year in years:\n",
    "        affected = np.sum(NA[NA.iyear == year][category1]) + np.sum(NA[NA.iyear == year][category2])\n",
    "        population = canada.iloc[0][str(year)] + us.iloc[0][str(year)] + mexico.iloc[0][str(year)]\n",
    "        NAeffect[year] = float(affected)/float(population)\n",
    "\n",
    "        affected = np.sum(ME[ME.iyear == year][category1]) + np.sum(ME[ME.iyear == year][category2])\n",
    "        population = MENA.iloc[0][str(year)] - oman.iloc[0][str(year)] + turkey.iloc[0][str(year)] - djibouti.iloc[0][str(year)] \n",
    "        MEeffect[year] = float(affected)/float(population)\n",
    "\n",
    "    thinkplot.Plot(NAeffect.keys(), NAeffect.values(), label=\"NA\")\n",
    "    thinkplot.Plot(MEeffect.keys(), MEeffect.values(), label=\"ME\")\n",
    "    thinkplot.Config(xlabel=\"years\",\n",
    "                     ylabel=\"probability of terrorist attack by criterion\",\n",
    "                     title=title, \n",
    "                     loc=\"upper left\")\n",
    "    return NAeffect, MEeffect"
   ]
  },
  {
   "cell_type": "code",
   "execution_count": 81,
   "metadata": {
    "collapsed": true
   },
   "outputs": [],
   "source": [
    "def calculate_probability(NAeffect, MEeffect, year):\n",
    "    \"\"\"\n",
    "    Calculates the probability of being affected in a certain year by a certain criterion, expressed as 1 in X number\n",
    "    \n",
    "    Input: NAeffect dictionary, MEeffect dictionary, year integer\n",
    "    \"\"\"\n",
    "    NAprob = 1/NAeffect[year]\n",
    "    MEprob = 1/MEeffect[year]\n",
    "    difference = (1/NAeffect[year])/(1/MEeffect[year])\n",
    "    \n",
    "    return NAprob, MEprob, difference"
   ]
  },
  {
   "cell_type": "markdown",
   "metadata": {},
   "source": [
    "### Databases"
   ]
  },
  {
   "cell_type": "markdown",
   "metadata": {},
   "source": [
    "This reads in and cleans up the dataset for terrorism, the dataset collected by the Global Terrorism Database from\n",
    "1970s to 2015.\n",
    "\n",
    "For more information on what each of the variables stand for or how they are evaluated, take a look at the \n",
    "Documentation link above\n",
    "\n",
    "This also displays the first 5 rows of the dataframe, for visualization convenience"
   ]
  },
  {
   "cell_type": "code",
   "execution_count": 82,
   "metadata": {
    "collapsed": false
   },
   "outputs": [
    {
     "data": {
      "text/html": [
       "<div>\n",
       "<table border=\"1\" class=\"dataframe\">\n",
       "  <thead>\n",
       "    <tr style=\"text-align: right;\">\n",
       "      <th></th>\n",
       "      <th>eventid</th>\n",
       "      <th>iyear</th>\n",
       "      <th>imonth</th>\n",
       "      <th>iday</th>\n",
       "      <th>approxdate</th>\n",
       "      <th>extended</th>\n",
       "      <th>resolution</th>\n",
       "      <th>country</th>\n",
       "      <th>country_txt</th>\n",
       "      <th>region</th>\n",
       "      <th>...</th>\n",
       "      <th>dbsource</th>\n",
       "      <th>INT_LOG</th>\n",
       "      <th>INT_IDEO</th>\n",
       "      <th>INT_MISC</th>\n",
       "      <th>INT_ANY</th>\n",
       "      <th>related</th>\n",
       "      <th>propdmg</th>\n",
       "      <th>wounded</th>\n",
       "      <th>fatals</th>\n",
       "      <th>hostages</th>\n",
       "    </tr>\n",
       "  </thead>\n",
       "  <tbody>\n",
       "    <tr>\n",
       "      <th>0</th>\n",
       "      <td>197000000001</td>\n",
       "      <td>1970</td>\n",
       "      <td>0</td>\n",
       "      <td>0</td>\n",
       "      <td>NaN</td>\n",
       "      <td>0</td>\n",
       "      <td>NaN</td>\n",
       "      <td>58</td>\n",
       "      <td>Dominican Republic</td>\n",
       "      <td>2</td>\n",
       "      <td>...</td>\n",
       "      <td>PGIS</td>\n",
       "      <td>0</td>\n",
       "      <td>0</td>\n",
       "      <td>0</td>\n",
       "      <td>0</td>\n",
       "      <td>NaN</td>\n",
       "      <td>0.0</td>\n",
       "      <td>0.0</td>\n",
       "      <td>1.0</td>\n",
       "      <td>0.0</td>\n",
       "    </tr>\n",
       "    <tr>\n",
       "      <th>1</th>\n",
       "      <td>197000000002</td>\n",
       "      <td>1970</td>\n",
       "      <td>0</td>\n",
       "      <td>0</td>\n",
       "      <td>NaN</td>\n",
       "      <td>0</td>\n",
       "      <td>NaN</td>\n",
       "      <td>130</td>\n",
       "      <td>Mexico</td>\n",
       "      <td>1</td>\n",
       "      <td>...</td>\n",
       "      <td>PGIS</td>\n",
       "      <td>0</td>\n",
       "      <td>1</td>\n",
       "      <td>1</td>\n",
       "      <td>1</td>\n",
       "      <td>NaN</td>\n",
       "      <td>0.0</td>\n",
       "      <td>0.0</td>\n",
       "      <td>0.0</td>\n",
       "      <td>1.0</td>\n",
       "    </tr>\n",
       "    <tr>\n",
       "      <th>2</th>\n",
       "      <td>197001000001</td>\n",
       "      <td>1970</td>\n",
       "      <td>1</td>\n",
       "      <td>0</td>\n",
       "      <td>NaN</td>\n",
       "      <td>0</td>\n",
       "      <td>NaN</td>\n",
       "      <td>160</td>\n",
       "      <td>Philippines</td>\n",
       "      <td>5</td>\n",
       "      <td>...</td>\n",
       "      <td>PGIS</td>\n",
       "      <td>-9</td>\n",
       "      <td>-9</td>\n",
       "      <td>1</td>\n",
       "      <td>1</td>\n",
       "      <td>NaN</td>\n",
       "      <td>0.0</td>\n",
       "      <td>0.0</td>\n",
       "      <td>1.0</td>\n",
       "      <td>0.0</td>\n",
       "    </tr>\n",
       "    <tr>\n",
       "      <th>3</th>\n",
       "      <td>197001000002</td>\n",
       "      <td>1970</td>\n",
       "      <td>1</td>\n",
       "      <td>0</td>\n",
       "      <td>NaN</td>\n",
       "      <td>0</td>\n",
       "      <td>NaN</td>\n",
       "      <td>78</td>\n",
       "      <td>Greece</td>\n",
       "      <td>8</td>\n",
       "      <td>...</td>\n",
       "      <td>PGIS</td>\n",
       "      <td>-9</td>\n",
       "      <td>-9</td>\n",
       "      <td>1</td>\n",
       "      <td>1</td>\n",
       "      <td>NaN</td>\n",
       "      <td>1.0</td>\n",
       "      <td>NaN</td>\n",
       "      <td>NaN</td>\n",
       "      <td>0.0</td>\n",
       "    </tr>\n",
       "    <tr>\n",
       "      <th>4</th>\n",
       "      <td>197001000003</td>\n",
       "      <td>1970</td>\n",
       "      <td>1</td>\n",
       "      <td>0</td>\n",
       "      <td>NaN</td>\n",
       "      <td>0</td>\n",
       "      <td>NaN</td>\n",
       "      <td>101</td>\n",
       "      <td>Japan</td>\n",
       "      <td>4</td>\n",
       "      <td>...</td>\n",
       "      <td>PGIS</td>\n",
       "      <td>-9</td>\n",
       "      <td>-9</td>\n",
       "      <td>1</td>\n",
       "      <td>1</td>\n",
       "      <td>NaN</td>\n",
       "      <td>1.0</td>\n",
       "      <td>NaN</td>\n",
       "      <td>NaN</td>\n",
       "      <td>0.0</td>\n",
       "    </tr>\n",
       "  </tbody>\n",
       "</table>\n",
       "<p>5 rows × 141 columns</p>\n",
       "</div>"
      ],
      "text/plain": [
       "        eventid  iyear  imonth  iday approxdate  extended resolution  country  \\\n",
       "0  197000000001   1970       0     0        NaN         0        NaN       58   \n",
       "1  197000000002   1970       0     0        NaN         0        NaN      130   \n",
       "2  197001000001   1970       1     0        NaN         0        NaN      160   \n",
       "3  197001000002   1970       1     0        NaN         0        NaN       78   \n",
       "4  197001000003   1970       1     0        NaN         0        NaN      101   \n",
       "\n",
       "          country_txt  region    ...    dbsource INT_LOG INT_IDEO  INT_MISC  \\\n",
       "0  Dominican Republic       2    ...        PGIS       0        0         0   \n",
       "1              Mexico       1    ...        PGIS       0        1         1   \n",
       "2         Philippines       5    ...        PGIS      -9       -9         1   \n",
       "3              Greece       8    ...        PGIS      -9       -9         1   \n",
       "4               Japan       4    ...        PGIS      -9       -9         1   \n",
       "\n",
       "   INT_ANY  related  propdmg wounded fatals  hostages  \n",
       "0        0      NaN      0.0     0.0    1.0       0.0  \n",
       "1        1      NaN      0.0     0.0    0.0       1.0  \n",
       "2        1      NaN      0.0     0.0    1.0       0.0  \n",
       "3        1      NaN      1.0     NaN    NaN       0.0  \n",
       "4        1      NaN      1.0     NaN    NaN       0.0  \n",
       "\n",
       "[5 rows x 141 columns]"
      ]
     },
     "execution_count": 82,
     "metadata": {},
     "output_type": "execute_result"
    }
   ],
   "source": [
    "terrorism = pd.read_excel('../../terrorism.xlsx')\n",
    "terrorism = clean_dataframe(terrorism)\n",
    "terrorism.head()"
   ]
  },
  {
   "cell_type": "markdown",
   "metadata": {},
   "source": [
    "This reads in the dataset for world populations, the dataset collected by the World Bank from\n",
    "1960s to present time. Note that no cleaning was done because none was needed, the database had no missing values or \"bad\" responses (-9, -99, etc.)\n",
    "\n",
    "For more information on what each of the variables stand for or how they are evaluated, take a look at the World Bank link above\n",
    "\n",
    "This also displays the first 5 rows of the dataframe, for visualization convenience"
   ]
  },
  {
   "cell_type": "code",
   "execution_count": 83,
   "metadata": {
    "collapsed": false,
    "scrolled": false
   },
   "outputs": [
    {
     "data": {
      "text/html": [
       "<div>\n",
       "<table border=\"1\" class=\"dataframe\">\n",
       "  <thead>\n",
       "    <tr style=\"text-align: right;\">\n",
       "      <th></th>\n",
       "      <th>Country Name</th>\n",
       "      <th>Country Code</th>\n",
       "      <th>Indicator Name</th>\n",
       "      <th>Indicator Code</th>\n",
       "      <th>1960</th>\n",
       "      <th>1961</th>\n",
       "      <th>1962</th>\n",
       "      <th>1963</th>\n",
       "      <th>1964</th>\n",
       "      <th>1965</th>\n",
       "      <th>...</th>\n",
       "      <th>2007</th>\n",
       "      <th>2008</th>\n",
       "      <th>2009</th>\n",
       "      <th>2010</th>\n",
       "      <th>2011</th>\n",
       "      <th>2012</th>\n",
       "      <th>2013</th>\n",
       "      <th>2014</th>\n",
       "      <th>2015</th>\n",
       "      <th>2016</th>\n",
       "    </tr>\n",
       "  </thead>\n",
       "  <tbody>\n",
       "    <tr>\n",
       "      <th>0</th>\n",
       "      <td>Aruba</td>\n",
       "      <td>ABW</td>\n",
       "      <td>Population, total</td>\n",
       "      <td>SP.POP.TOTL</td>\n",
       "      <td>54208.0</td>\n",
       "      <td>55435.0</td>\n",
       "      <td>56226.0</td>\n",
       "      <td>56697.0</td>\n",
       "      <td>57029.0</td>\n",
       "      <td>57360.0</td>\n",
       "      <td>...</td>\n",
       "      <td>101218.0</td>\n",
       "      <td>101342.0</td>\n",
       "      <td>101416.0</td>\n",
       "      <td>101597.0</td>\n",
       "      <td>101936.0</td>\n",
       "      <td>102393.0</td>\n",
       "      <td>102921.0</td>\n",
       "      <td>103441.0</td>\n",
       "      <td>103889.0</td>\n",
       "      <td>NaN</td>\n",
       "    </tr>\n",
       "    <tr>\n",
       "      <th>1</th>\n",
       "      <td>Andorra</td>\n",
       "      <td>AND</td>\n",
       "      <td>Population, total</td>\n",
       "      <td>SP.POP.TOTL</td>\n",
       "      <td>13414.0</td>\n",
       "      <td>14376.0</td>\n",
       "      <td>15376.0</td>\n",
       "      <td>16410.0</td>\n",
       "      <td>17470.0</td>\n",
       "      <td>18551.0</td>\n",
       "      <td>...</td>\n",
       "      <td>84878.0</td>\n",
       "      <td>85616.0</td>\n",
       "      <td>85474.0</td>\n",
       "      <td>84419.0</td>\n",
       "      <td>82326.0</td>\n",
       "      <td>79316.0</td>\n",
       "      <td>75902.0</td>\n",
       "      <td>72786.0</td>\n",
       "      <td>70473.0</td>\n",
       "      <td>NaN</td>\n",
       "    </tr>\n",
       "    <tr>\n",
       "      <th>2</th>\n",
       "      <td>Afghanistan</td>\n",
       "      <td>AFG</td>\n",
       "      <td>Population, total</td>\n",
       "      <td>SP.POP.TOTL</td>\n",
       "      <td>8994793.0</td>\n",
       "      <td>9164945.0</td>\n",
       "      <td>9343772.0</td>\n",
       "      <td>9531555.0</td>\n",
       "      <td>9728645.0</td>\n",
       "      <td>9935358.0</td>\n",
       "      <td>...</td>\n",
       "      <td>25877544.0</td>\n",
       "      <td>26528741.0</td>\n",
       "      <td>27207291.0</td>\n",
       "      <td>27962207.0</td>\n",
       "      <td>28809167.0</td>\n",
       "      <td>29726803.0</td>\n",
       "      <td>30682500.0</td>\n",
       "      <td>31627506.0</td>\n",
       "      <td>32526562.0</td>\n",
       "      <td>NaN</td>\n",
       "    </tr>\n",
       "    <tr>\n",
       "      <th>3</th>\n",
       "      <td>Angola</td>\n",
       "      <td>AGO</td>\n",
       "      <td>Population, total</td>\n",
       "      <td>SP.POP.TOTL</td>\n",
       "      <td>5270844.0</td>\n",
       "      <td>5367287.0</td>\n",
       "      <td>5465905.0</td>\n",
       "      <td>5565808.0</td>\n",
       "      <td>5665701.0</td>\n",
       "      <td>5765025.0</td>\n",
       "      <td>...</td>\n",
       "      <td>19183907.0</td>\n",
       "      <td>19842251.0</td>\n",
       "      <td>20520103.0</td>\n",
       "      <td>21219954.0</td>\n",
       "      <td>21942296.0</td>\n",
       "      <td>22685632.0</td>\n",
       "      <td>23448202.0</td>\n",
       "      <td>24227524.0</td>\n",
       "      <td>25021974.0</td>\n",
       "      <td>NaN</td>\n",
       "    </tr>\n",
       "    <tr>\n",
       "      <th>4</th>\n",
       "      <td>Albania</td>\n",
       "      <td>ALB</td>\n",
       "      <td>Population, total</td>\n",
       "      <td>SP.POP.TOTL</td>\n",
       "      <td>1608800.0</td>\n",
       "      <td>1659800.0</td>\n",
       "      <td>1711319.0</td>\n",
       "      <td>1762621.0</td>\n",
       "      <td>1814135.0</td>\n",
       "      <td>1864791.0</td>\n",
       "      <td>...</td>\n",
       "      <td>2970017.0</td>\n",
       "      <td>2947314.0</td>\n",
       "      <td>2927519.0</td>\n",
       "      <td>2913021.0</td>\n",
       "      <td>2904780.0</td>\n",
       "      <td>2900247.0</td>\n",
       "      <td>2896652.0</td>\n",
       "      <td>2893654.0</td>\n",
       "      <td>2889167.0</td>\n",
       "      <td>NaN</td>\n",
       "    </tr>\n",
       "  </tbody>\n",
       "</table>\n",
       "<p>5 rows × 61 columns</p>\n",
       "</div>"
      ],
      "text/plain": [
       "  Country Name Country Code     Indicator Name Indicator Code       1960  \\\n",
       "0        Aruba          ABW  Population, total    SP.POP.TOTL    54208.0   \n",
       "1      Andorra          AND  Population, total    SP.POP.TOTL    13414.0   \n",
       "2  Afghanistan          AFG  Population, total    SP.POP.TOTL  8994793.0   \n",
       "3       Angola          AGO  Population, total    SP.POP.TOTL  5270844.0   \n",
       "4      Albania          ALB  Population, total    SP.POP.TOTL  1608800.0   \n",
       "\n",
       "        1961       1962       1963       1964       1965  ...         2007  \\\n",
       "0    55435.0    56226.0    56697.0    57029.0    57360.0  ...     101218.0   \n",
       "1    14376.0    15376.0    16410.0    17470.0    18551.0  ...      84878.0   \n",
       "2  9164945.0  9343772.0  9531555.0  9728645.0  9935358.0  ...   25877544.0   \n",
       "3  5367287.0  5465905.0  5565808.0  5665701.0  5765025.0  ...   19183907.0   \n",
       "4  1659800.0  1711319.0  1762621.0  1814135.0  1864791.0  ...    2970017.0   \n",
       "\n",
       "         2008        2009        2010        2011        2012        2013  \\\n",
       "0    101342.0    101416.0    101597.0    101936.0    102393.0    102921.0   \n",
       "1     85616.0     85474.0     84419.0     82326.0     79316.0     75902.0   \n",
       "2  26528741.0  27207291.0  27962207.0  28809167.0  29726803.0  30682500.0   \n",
       "3  19842251.0  20520103.0  21219954.0  21942296.0  22685632.0  23448202.0   \n",
       "4   2947314.0   2927519.0   2913021.0   2904780.0   2900247.0   2896652.0   \n",
       "\n",
       "         2014        2015  2016  \n",
       "0    103441.0    103889.0   NaN  \n",
       "1     72786.0     70473.0   NaN  \n",
       "2  31627506.0  32526562.0   NaN  \n",
       "3  24227524.0  25021974.0   NaN  \n",
       "4   2893654.0   2889167.0   NaN  \n",
       "\n",
       "[5 rows x 61 columns]"
      ]
     },
     "execution_count": 83,
     "metadata": {},
     "output_type": "execute_result"
    }
   ],
   "source": [
    "worldpop = pd.read_csv('../../worldpop.csv', sep='\\t')\n",
    "worldpop.head()"
   ]
  },
  {
   "cell_type": "markdown",
   "metadata": {},
   "source": [
    "### Basic Visualizations"
   ]
  },
  {
   "cell_type": "markdown",
   "metadata": {},
   "source": [
    "The following graphs are Pmfs of the various variables I will be using, just to visualize what each of them look like\n",
    "and to potentially gain some insight on each of them"
   ]
  },
  {
   "cell_type": "markdown",
   "metadata": {},
   "source": [
    "Below is a Pmf of the numbers of deaths in each incident. Note that surprisingly, most incidents resolve without any\n",
    "fatalities, although some can stretch to over a thousand dead."
   ]
  },
  {
   "cell_type": "code",
   "execution_count": 84,
   "metadata": {
    "collapsed": false,
    "scrolled": true
   },
   "outputs": [
    {
     "data": {
      "image/png": "[encoded data removed]",
      "text/plain": [
       "<matplotlib.figure.Figure at 0x11c806a50>"
      ]
     },
     "metadata": {},
     "output_type": "display_data"
    }
   ],
   "source": [
    "make_and_plot_pmf(terrorism.nkill, \"numbers of deaths in an attack\")"
   ]
  },
  {
   "cell_type": "markdown",
   "metadata": {},
   "source": [
    "Below is a Pmf of the numbers of wounded in each incident. Note that surprisingly once again, most incidents resolve without any casualties, although some can stretch to over multiple thousands wounded."
   ]
  },
  {
   "cell_type": "code",
   "execution_count": 85,
   "metadata": {
    "collapsed": false
   },
   "outputs": [
    {
     "data": {
      "image/png": "[encoded data removed]",
      "text/plain": [
       "<matplotlib.figure.Figure at 0x110802250>"
      ]
     },
     "metadata": {},
     "output_type": "display_data"
    }
   ],
   "source": [
    "make_and_plot_pmf(terrorism.wounded, \"number of wounded in an attack\")"
   ]
  },
  {
   "cell_type": "markdown",
   "metadata": {},
   "source": [
    "Below is a Pmf showing the proportion of incidents that included a hostage situation where a target or someone nearby was taken hostage. As can be seen, out of all incidents around the world from the 1970s, very few incidents take hostages."
   ]
  },
  {
   "cell_type": "code",
   "execution_count": 86,
   "metadata": {
    "collapsed": false,
    "scrolled": false
   },
   "outputs": [
    {
     "data": {
      "image/png": "[encoded data removed]",
      "text/plain": [
       "<matplotlib.figure.Figure at 0x11bacca90>"
      ]
     },
     "metadata": {},
     "output_type": "display_data"
    }
   ],
   "source": [
    "make_and_plot_pmf(terrorism.hostages, \"hostages taken or no\")"
   ]
  },
  {
   "cell_type": "markdown",
   "metadata": {},
   "source": [
    "Below is a Pmf showing the showing whether property damage occurred at each incident. Note that for this category, it appears that the distribution favors more property damage, so it seems at first glance that a terrorist incident will likely include some form of property costs because of damage, explosion, etc."
   ]
  },
  {
   "cell_type": "code",
   "execution_count": 87,
   "metadata": {
    "collapsed": false,
    "scrolled": true
   },
   "outputs": [
    {
     "data": {
      "image/png": "[encoded data removed]",
      "text/plain": [
       "<matplotlib.figure.Figure at 0x12faadc90>"
      ]
     },
     "metadata": {},
     "output_type": "display_data"
    }
   ],
   "source": [
    "make_and_plot_pmf(terrorism.propdmg, \"property damage or no\")"
   ]
  },
  {
   "cell_type": "markdown",
   "metadata": {},
   "source": [
    "### Analysis"
   ]
  },
  {
   "cell_type": "markdown",
   "metadata": {},
   "source": [
    "The following cells show the analysis used in this report. "
   ]
  },
  {
   "cell_type": "markdown",
   "metadata": {},
   "source": [
    "The main analysis of this report is looking at two main things: What is the probability of being affected by terrorism in the North America, and how does that compare to that of the Middle East?\n",
    "\n",
    "To answer probability, I look at the per capita chance of being hit by terrorism. That is, I take the total number of incidents that happen in a region and divide it by the number of people living in that region.\n",
    "\n",
    "Below is the probability of either being killed or wounded from a terrorist attack in North America. I divide the database up into years, and for each year, I calculate the total number of killed and injured, then divide that number by the population of the US in that year. The result is the graph below.\n",
    "\n",
    "The graph seems to say that North America has an insanely low chance of being attacked, and has been for basically all 50 years prior. The Middle East has a larger chance, and as seen by the most recent statistics shown below, it is about two orders of magnitude higher. The big spike in the trend for Middle East happens around 2001, which can be plausibly attributed to the 9/11 attack. North America's highest spike also happens during that time. Even though the Middle East's chances are indeed higher, looking at the number in a vacuum, the chance of being attacked by terrorism in the dead center of the world's terror zone right, where all the civil wars and major terrorist groups lie, is still fairly small. Looking at the \"reference\" website above, there are quite a few things that could be more likely than terrorism, such as dying to drowning or fire."
   ]
  },
  {
   "cell_type": "code",
   "execution_count": 113,
   "metadata": {
    "collapsed": false,
    "scrolled": true
   },
   "outputs": [
    {
     "name": "stdout",
     "output_type": "stream",
     "text": [
      "NA has a 1 in 4139212 chance of being attacked by a terrorist\n",
      "ME has a 1 in 11997 chance of being attacked by a terrorist\n",
      "that's a difference of 345 times!\n"
     ]
    },
    {
     "data": {
      "image/png": "[encoded data removed]",
      "text/plain": [
       "<matplotlib.figure.Figure at 0x13387c050>"
      ]
     },
     "metadata": {},
     "output_type": "display_data"
    }
   ],
   "source": [
    "NAeffect, MEeffect = calculate_per_capita('wounded', 'fatals', worldpop, terrorism, \"Probability of Casualty (Death or Wounded)\")\n",
    "NAprob, MEprob, diff = calculate_probability(NAeffect, MEeffect, 2015)\n",
    "\n",
    "print \"NA has a 1 in\", int(NAprob), \"chance of being attacked by a terrorist\"\n",
    "print \"ME has a 1 in\", int(MEprob), \"chance of being attacked by a terrorist\"\n",
    "print \"that's a difference of\", int(diff), \"times!\""
   ]
  },
  {
   "cell_type": "markdown",
   "metadata": {},
   "source": [
    "Below is the probability of either being a victim of property damage or a hostage situation from a terrorist attack in North America. I divide the database up into years, and for each year, I calculate the total number of hostage situations and property damage reports, given as a binary yes or no, then divide that number by the population of the US in that year. The result is the graph below.\n",
    "\n",
    "The graph seems to say that North America still has an insanely low chance of being a victim to damages or hostages, and has been for basically all 50 years prior. The Middle East has a larger chance, and as seen by the most recent statistics shown below, it is only about one order of magnitude higher. This shows that even the Middle East has a lower chance of being affected by terrorism in terms of property damage or hostages. The big spike in the trend for Middle East happens around 2001, which can be plausibly attributed to the 9/11 attack. Even though the Middle East's chances are indeed higher, looking at the number in a vacuum, the chance of being attacked by terrorism in the dead center of the world's terror zone right, where all the civil wars and major terrorist groups lie, is still quite small, even smaller than that of the chances for being killed. Looking at the \"reference\" website above, there are many things that could be more likely than property damage or hostage situation by terrorism, such as a dog attack or an earthquake."
   ]
  },
  {
   "cell_type": "code",
   "execution_count": 115,
   "metadata": {
    "collapsed": false
   },
   "outputs": [
    {
     "name": "stdout",
     "output_type": "stream",
     "text": [
      "NA has a 1 in 15622187 chance of being a victim of property damage or hostage situation by a terrorist\n",
      "ME has a 1 in 242492 chance of being a victim of property damage or hostage situation by a terrorist\n",
      "that's a difference of 64 times!\n"
     ]
    },
    {
     "data": {
      "image/png": "[encoded data removed]",
      "text/plain": [
       "<matplotlib.figure.Figure at 0x12fb4d490>"
      ]
     },
     "metadata": {},
     "output_type": "display_data"
    }
   ],
   "source": [
    "NAeffect, MEeffect = calculate_per_capita('propdmg', 'hostages', worldpop, terrorism, \"Probability of Property Damage or Taken Hostage\")\n",
    "NAprob, MEprob, diff = calculate_probability(NAeffect, MEeffect, 2015)\n",
    "\n",
    "print \"NA has a 1 in\", int(NAprob), \"chance of being a victim of property damage or hostage situation by a terrorist\"\n",
    "print \"ME has a 1 in\", int(MEprob), \"chance of being a victim of property damage or hostage situation by a terrorist\"\n",
    "print \"that's a difference of\", int(diff), \"times!\""
   ]
  },
  {
   "cell_type": "markdown",
   "metadata": {},
   "source": [
    "For what it's worth, I also analyzed the top players within the terrorism field of work. A sub-question might be \"who are the biggest players in terrorism? Are there really prevalent terrorists, or is it more evened out?\"\n",
    "\n",
    "To answer this question, I grouped all terrorism incidents by the named group that was shown in the database, excluding Unknown group names. I then ranked them by number for the highest number of incidents per group in descending order, and then visualized it\n",
    "\n",
    "Below is a CDF that shows the graph of all the groups and their respective number of attacks. It is pretty evident that the majority of all incidents are brought about by a very small, specific set of terrorist groups, which  makes sense is agrees with our assumptions. Looking more specifically, it appears that out of over 3000 terrorist documented in the world, less than 1% of them account for over 55% of all terrorist attacks. From this it is likely that terrorist is dominated by a few very \"powerful\" organizations that terrorize the world, and then are supplemented by a number of smaller, independent groups that commit one act and then either stop or are caught."
   ]
  },
  {
   "cell_type": "code",
   "execution_count": 102,
   "metadata": {
    "collapsed": false
   },
   "outputs": [
    {
     "name": "stdout",
     "output_type": "stream",
     "text": [
      "total number of terrorist groups: 3290\n",
      "number of groups that account for 55% of all terrorist incidents: 27\n"
     ]
    },
    {
     "data": {
      "image/png": "[encoded data removed]",
      "text/plain": [
       "<matplotlib.figure.Figure at 0x11f180350>"
      ]
     },
     "metadata": {},
     "output_type": "display_data"
    }
   ],
   "source": [
    "#created dictionary of groups with their respective number of incidents\n",
    "names = terrorism[\"gname\"]\n",
    "groups = {}\n",
    "for name in names:\n",
    "    groups[name] = groups.get(name, 0) + 1\n",
    "    \n",
    "#switched group name to rank, then created a new array of rank with incident number\n",
    "incidents = groups.values()\n",
    "incidents = sorted(incidents, reverse=True)\n",
    "incidents = incidents[1:]\n",
    "temp = np.arange(len(incidents))\n",
    "full = zip(temp, incidents)\n",
    "\n",
    "#create CDF and plot\n",
    "players = {}\n",
    "for rank, freq in full:\n",
    "    players[rank] = freq\n",
    "pmf = thinkstats2.Pmf(players)\n",
    "cdf = thinkstats2.Cdf(pmf)\n",
    "\n",
    "print \"total number of terrorist groups:\", len(booty)\n",
    "print \"number of groups that account for 55% of all terrorist incidents:\", cdf.Percentile(55)\n",
    "\n",
    "thinkplot.Cdf(cdf)\n",
    "thinkplot.Config(xlabel=\"rank of terrorist group (descending by # of incidents)\",\n",
    "                 ylabel=\"CDF\",\n",
    "                 title=\"Who are the top players?\", \n",
    "                 loc=\"lower right\")"
   ]
  },
  {
   "cell_type": "markdown",
   "metadata": {},
   "source": [
    "Below also shows the top 30 players in the terrorist scene, for those curious. Not surprisingly, the top group is the Taliban, and the 4th highest is ISIS. But also interestingly enough, two of the highest groups, the Shining Path, and the FMLN, are from Peru and El Salvador, respectively. So not everything comes from the Middle East!"
   ]
  },
  {
   "cell_type": "code",
   "execution_count": 107,
   "metadata": {
    "collapsed": false
   },
   "outputs": [
    {
     "name": "stdout",
     "output_type": "stream",
     "text": [
      "The top 30 most prevalent terrorist groups, by number of incidents\n",
      " \n",
      "Taliban 5502\n",
      "Shining Path (SL) 4548\n",
      "Farabundo Marti National Liberation Front (FMLN) 3351\n",
      "Islamic State of Iraq and the Levant (ISIL) 2833\n",
      "Irish Republican Army (IRA) 2670\n",
      "Revolutionary Armed Forces of Colombia (FARC) 2474\n",
      "New People's Army (NPA) 2241\n",
      "Al-Shabaab 2127\n",
      "Basque Fatherland and Freedom (ETA) 2024\n",
      "Boko Haram 1839\n",
      "Kurdistan Workers' Party (PKK) 1782\n",
      "Communist Party of India - Maoist (CPI-Maoist) 1666\n",
      "Liberation Tigers of Tamil Eelam (LTTE) 1606\n",
      "National Liberation Army of Colombia (ELN) 1418\n",
      "Tehrik-i-Taliban Pakistan (TTP) 1153\n",
      "Maoists 1141\n",
      "Palestinians 1124\n",
      "Nicaraguan Democratic Force (FDN) 895\n",
      "Al-Qaida in the Arabian Peninsula (AQAP) 893\n",
      "Manuel Rodriguez Patriotic Front (FPMR) 830\n",
      "Sikh Extremists 714\n",
      "Corsican National Liberation Front (FLNC) 639\n",
      "Al-Qaida in Iraq 635\n",
      "African National Congress (South Africa) 606\n",
      "Donetsk People's Republic 600\n",
      "Tupac Amaru Revolutionary Movement (MRTA) 557\n",
      "M-19 (Movement of April 19) 554\n",
      "Huthi Extremists 554\n",
      "Unaffiliated Individual(s) 545\n",
      "Separatists 498\n"
     ]
    }
   ],
   "source": [
    "toplist = []\n",
    "for name, freq in groups.items():\n",
    "    toplist.append((name, freq))\n",
    "\n",
    "toplist = sorted(toplist, reverse=True, key=lambda x: x[1])\n",
    "print \"The top 30 most prevalent terrorist groups, by number of incidents\"\n",
    "print \" \"\n",
    "for i in range(1,31):\n",
    "    print toplist[i][0], toplist[i][1]"
   ]
  },
  {
   "cell_type": "code",
   "execution_count": null,
   "metadata": {
    "collapsed": true
   },
   "outputs": [],
   "source": []
  }
 ],
 "metadata": {
  "kernelspec": {
   "display_name": "Python 2",
   "language": "python",
   "name": "python2"
  },
  "language_info": {
   "codemirror_mode": {
    "name": "ipython",
    "version": 2
   },
   "file_extension": ".py",
   "mimetype": "text/x-python",
   "name": "python",
   "nbconvert_exporter": "python",
   "pygments_lexer": "ipython2",
   "version": "2.7.12"
  }
 },
 "nbformat": 4,
 "nbformat_minor": 0
}
