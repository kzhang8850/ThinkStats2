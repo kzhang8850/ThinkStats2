{
 "cells": [
  {
   "cell_type": "markdown",
   "metadata": {},
   "source": [
    "# What is this report wtf\n",
    "\n",
    "### Kevin Zhang\n",
    "\n",
    "Data Science Spring 2017\n",
    "\n",
    "3/21/2017\n",
    "\n",
    "#### Documentation/Reference/Works Cited\n",
    "\n",
    "Data Source:\n",
    "https://www.start.umd.edu/gtd/\n",
    "\n",
    "Data Documentation, Variables, Legend:\n",
    "https://www.start.umd.edu/gtd/downloads/Codebook.pdf"
   ]
  },
  {
   "cell_type": "markdown",
   "metadata": {},
   "source": [
    "## About this Notebook\n",
    "\n",
    "This notebook contains all the source code for the data science report done on the question of \n",
    "\n",
    "The code below outlines my methodology for gathering, cleaning, and analyzing the data. Basically, I found a dataset from the Global Terrorism database, which is the most comprehensive database that includes virtually all recorded instances of terrorist attacks around the world from the 1970s to present. [insert more discussion of variables and perspective here]\n",
    "\n",
    "The main concepts used for analysis were [insert stuff here] which were deemed accurate enough for the purposes of this project. \n",
    "\n",
    "The overall result is that\n",
    "\n",
    "For a full breakdown of the code, feel free to continue reading."
   ]
  },
  {
   "cell_type": "code",
   "execution_count": 1,
   "metadata": {
    "collapsed": false
   },
   "outputs": [],
   "source": [
    "%matplotlib inline\n",
    "\n",
    "import numpy as np\n",
    "import pandas as pd\n",
    "import random\n",
    "import thinkstats2\n",
    "import thinkplot\n",
    "import statsmodels.formula.api as smf\n"
   ]
  },
  {
   "cell_type": "code",
   "execution_count": 2,
   "metadata": {
    "collapsed": true
   },
   "outputs": [],
   "source": [
    "def clean_dataframe(df):\n",
    "    \"\"\"\n",
    "    Takes the entire Pandas dataframe and cleans out all bad responses associated with the data that I am specifically\n",
    "    looking to by replacing them with NaNs. \n",
    "    \n",
    "    Then cleans out nans for usage in regression and other analysis.\n",
    "    \n",
    "    Input: Pandas dataframe\n",
    "    Output: dataframe that has been cleaned out\n",
    "    \"\"\"\n",
    "    df.property.replace([-9], np.nan, inplace=True)\n",
    "    \n",
    "    df['propdmg'] = df.property.dropna()\n",
    "    df['wounded'] = df.nwound.dropna()\n",
    "    df['fatals'] = df.nkill.dropna()\n",
    "    \n",
    "    return df"
   ]
  },
  {
   "cell_type": "code",
   "execution_count": 3,
   "metadata": {
    "collapsed": true
   },
   "outputs": [],
   "source": [
    "def make_and_plot_pmf(series, label):\n",
    "    \"\"\"\n",
    "    Takes a category and makes a pmf. Then also plots the pmf using hist.\n",
    "    \n",
    "    Input: Category string\n",
    "    Output: pmf plot\n",
    "    \"\"\"\n",
    "    series_pmf = thinkstats2.Pmf(series, label=label)\n",
    "    thinkplot.Pmf(series_pmf)\n",
    "    thinkplot.Config(xlabel=label, ylabel=\"pmf\", loc=\"upper right\")\n"
   ]
  },
  {
   "cell_type": "code",
   "execution_count": 4,
   "metadata": {
    "collapsed": true
   },
   "outputs": [],
   "source": [
    "def calculate_RMSE(endog, r):\n",
    "    \"\"\"\n",
    "    Takes a dependent variables Pandas series and its corresponding coefficient of determination and \n",
    "    calculates the RSME of the variable with and without using the regression model\n",
    "    \n",
    "    Input: Pandas series, R-value\n",
    "    Output:RMSE without, RMSE with model\n",
    "    \"\"\"\n",
    "    RMSEraw = endog.std()\n",
    "    var_ys = RMSEraw**2\n",
    "    r2 = r\n",
    "    var_res = (1 - r2) * var_ys\n",
    "    RMSEmodel = np.sqrt(var_res)\n",
    "    \n",
    "    return RMSEraw, RMSEmodel"
   ]
  },
  {
   "cell_type": "code",
   "execution_count": 5,
   "metadata": {
    "collapsed": true
   },
   "outputs": [],
   "source": [
    "def OLS_reg(formula, df):\n",
    "    \"\"\"\n",
    "    Takes in a pre-written formula and calculates the Ordinary Least Squares Regression on it\n",
    "    \n",
    "    Input: formula string\n",
    "    Output: OLS regression results summary\n",
    "    \"\"\"\n",
    "    model = smf.ols(formula, data=df)\n",
    "    results = model.fit()\n",
    "    return results.summary()\n",
    "    "
   ]
  },
  {
   "cell_type": "markdown",
   "metadata": {},
   "source": [
    "This reads in and cleans up the dataset for terrorism, the dataset collected by the Global Terrorism Database from\n",
    "1970s to present time.\n",
    "\n",
    "For more information on what each of the variables stand for or how they are evaluated, take a look at the \n",
    "Documentation link above"
   ]
  },
  {
   "cell_type": "code",
   "execution_count": 6,
   "metadata": {
    "collapsed": true
   },
   "outputs": [],
   "source": [
    "terrorism = pd.read_excel('../../terrorism.xlsx')\n",
    "terrorism = clean_dataframe(terrorism)"
   ]
  },
  {
   "cell_type": "markdown",
   "metadata": {},
   "source": [
    "This displays the first 5 rows of the dataframe, for visualization convenience"
   ]
  },
  {
   "cell_type": "code",
   "execution_count": 7,
   "metadata": {
    "collapsed": false,
    "scrolled": false
   },
   "outputs": [
    {
     "data": {
      "text/html": [
       "<div>\n",
       "<table border=\"1\" class=\"dataframe\">\n",
       "  <thead>\n",
       "    <tr style=\"text-align: right;\">\n",
       "      <th></th>\n",
       "      <th>eventid</th>\n",
       "      <th>iyear</th>\n",
       "      <th>imonth</th>\n",
       "      <th>iday</th>\n",
       "      <th>approxdate</th>\n",
       "      <th>extended</th>\n",
       "      <th>resolution</th>\n",
       "      <th>country</th>\n",
       "      <th>country_txt</th>\n",
       "      <th>region</th>\n",
       "      <th>...</th>\n",
       "      <th>scite3</th>\n",
       "      <th>dbsource</th>\n",
       "      <th>INT_LOG</th>\n",
       "      <th>INT_IDEO</th>\n",
       "      <th>INT_MISC</th>\n",
       "      <th>INT_ANY</th>\n",
       "      <th>related</th>\n",
       "      <th>propdmg</th>\n",
       "      <th>wounded</th>\n",
       "      <th>fatals</th>\n",
       "    </tr>\n",
       "  </thead>\n",
       "  <tbody>\n",
       "    <tr>\n",
       "      <th>0</th>\n",
       "      <td>197000000001</td>\n",
       "      <td>1970</td>\n",
       "      <td>0</td>\n",
       "      <td>0</td>\n",
       "      <td>NaN</td>\n",
       "      <td>0</td>\n",
       "      <td>NaN</td>\n",
       "      <td>58</td>\n",
       "      <td>Dominican Republic</td>\n",
       "      <td>2</td>\n",
       "      <td>...</td>\n",
       "      <td>NaN</td>\n",
       "      <td>PGIS</td>\n",
       "      <td>0</td>\n",
       "      <td>0</td>\n",
       "      <td>0</td>\n",
       "      <td>0</td>\n",
       "      <td>NaN</td>\n",
       "      <td>0.0</td>\n",
       "      <td>0.0</td>\n",
       "      <td>1.0</td>\n",
       "    </tr>\n",
       "    <tr>\n",
       "      <th>1</th>\n",
       "      <td>197000000002</td>\n",
       "      <td>1970</td>\n",
       "      <td>0</td>\n",
       "      <td>0</td>\n",
       "      <td>NaN</td>\n",
       "      <td>0</td>\n",
       "      <td>NaN</td>\n",
       "      <td>130</td>\n",
       "      <td>Mexico</td>\n",
       "      <td>1</td>\n",
       "      <td>...</td>\n",
       "      <td>NaN</td>\n",
       "      <td>PGIS</td>\n",
       "      <td>0</td>\n",
       "      <td>1</td>\n",
       "      <td>1</td>\n",
       "      <td>1</td>\n",
       "      <td>NaN</td>\n",
       "      <td>0.0</td>\n",
       "      <td>0.0</td>\n",
       "      <td>0.0</td>\n",
       "    </tr>\n",
       "    <tr>\n",
       "      <th>2</th>\n",
       "      <td>197001000001</td>\n",
       "      <td>1970</td>\n",
       "      <td>1</td>\n",
       "      <td>0</td>\n",
       "      <td>NaN</td>\n",
       "      <td>0</td>\n",
       "      <td>NaN</td>\n",
       "      <td>160</td>\n",
       "      <td>Philippines</td>\n",
       "      <td>5</td>\n",
       "      <td>...</td>\n",
       "      <td>NaN</td>\n",
       "      <td>PGIS</td>\n",
       "      <td>-9</td>\n",
       "      <td>-9</td>\n",
       "      <td>1</td>\n",
       "      <td>1</td>\n",
       "      <td>NaN</td>\n",
       "      <td>0.0</td>\n",
       "      <td>0.0</td>\n",
       "      <td>1.0</td>\n",
       "    </tr>\n",
       "    <tr>\n",
       "      <th>3</th>\n",
       "      <td>197001000002</td>\n",
       "      <td>1970</td>\n",
       "      <td>1</td>\n",
       "      <td>0</td>\n",
       "      <td>NaN</td>\n",
       "      <td>0</td>\n",
       "      <td>NaN</td>\n",
       "      <td>78</td>\n",
       "      <td>Greece</td>\n",
       "      <td>8</td>\n",
       "      <td>...</td>\n",
       "      <td>NaN</td>\n",
       "      <td>PGIS</td>\n",
       "      <td>-9</td>\n",
       "      <td>-9</td>\n",
       "      <td>1</td>\n",
       "      <td>1</td>\n",
       "      <td>NaN</td>\n",
       "      <td>1.0</td>\n",
       "      <td>NaN</td>\n",
       "      <td>NaN</td>\n",
       "    </tr>\n",
       "    <tr>\n",
       "      <th>4</th>\n",
       "      <td>197001000003</td>\n",
       "      <td>1970</td>\n",
       "      <td>1</td>\n",
       "      <td>0</td>\n",
       "      <td>NaN</td>\n",
       "      <td>0</td>\n",
       "      <td>NaN</td>\n",
       "      <td>101</td>\n",
       "      <td>Japan</td>\n",
       "      <td>4</td>\n",
       "      <td>...</td>\n",
       "      <td>NaN</td>\n",
       "      <td>PGIS</td>\n",
       "      <td>-9</td>\n",
       "      <td>-9</td>\n",
       "      <td>1</td>\n",
       "      <td>1</td>\n",
       "      <td>NaN</td>\n",
       "      <td>1.0</td>\n",
       "      <td>NaN</td>\n",
       "      <td>NaN</td>\n",
       "    </tr>\n",
       "  </tbody>\n",
       "</table>\n",
       "<p>5 rows × 140 columns</p>\n",
       "</div>"
      ],
      "text/plain": [
       "        eventid  iyear  imonth  iday approxdate  extended resolution  country  \\\n",
       "0  197000000001   1970       0     0        NaN         0        NaN       58   \n",
       "1  197000000002   1970       0     0        NaN         0        NaN      130   \n",
       "2  197001000001   1970       1     0        NaN         0        NaN      160   \n",
       "3  197001000002   1970       1     0        NaN         0        NaN       78   \n",
       "4  197001000003   1970       1     0        NaN         0        NaN      101   \n",
       "\n",
       "          country_txt  region   ...   scite3 dbsource INT_LOG  INT_IDEO  \\\n",
       "0  Dominican Republic       2   ...      NaN     PGIS       0         0   \n",
       "1              Mexico       1   ...      NaN     PGIS       0         1   \n",
       "2         Philippines       5   ...      NaN     PGIS      -9        -9   \n",
       "3              Greece       8   ...      NaN     PGIS      -9        -9   \n",
       "4               Japan       4   ...      NaN     PGIS      -9        -9   \n",
       "\n",
       "   INT_MISC  INT_ANY  related propdmg wounded  fatals  \n",
       "0         0        0      NaN     0.0     0.0     1.0  \n",
       "1         1        1      NaN     0.0     0.0     0.0  \n",
       "2         1        1      NaN     0.0     0.0     1.0  \n",
       "3         1        1      NaN     1.0     NaN     NaN  \n",
       "4         1        1      NaN     1.0     NaN     NaN  \n",
       "\n",
       "[5 rows x 140 columns]"
      ]
     },
     "execution_count": 7,
     "metadata": {},
     "output_type": "execute_result"
    }
   ],
   "source": [
    "terrorism.head()"
   ]
  },
  {
   "cell_type": "markdown",
   "metadata": {},
   "source": [
    "### Basic Visualizations"
   ]
  },
  {
   "cell_type": "markdown",
   "metadata": {},
   "source": [
    "The following graphs are Pmfs of the various variables I will be using, just to visualize what each of them look like\n",
    "and to potentially gain some insight on each of them"
   ]
  },
  {
   "cell_type": "markdown",
   "metadata": {},
   "source": [
    "Below is a Pmf of the numbers of deaths in each incident. Note that surprisingly, most incidents resolve without any\n",
    "fatalities, although some can stretch to over a thousand dead."
   ]
  },
  {
   "cell_type": "code",
   "execution_count": 8,
   "metadata": {
    "collapsed": false,
    "scrolled": true
   },
   "outputs": [
    {
     "data": {
      "image/png": "[encoded data removed]",
      "text/plain": [
       "<matplotlib.figure.Figure at 0x11c8d8e10>"
      ]
     },
     "metadata": {},
     "output_type": "display_data"
    }
   ],
   "source": [
    "make_and_plot_pmf(terrorism.nkill, \"numbers of deaths in an attack\")"
   ]
  },
  {
   "cell_type": "markdown",
   "metadata": {},
   "source": [
    "Below is a Pmf of the numbers of wounded in each incident. Note that surprisingly once again, most incidents resolve without any casualties, although some can stretch to over multiple thousands wounded."
   ]
  },
  {
   "cell_type": "code",
   "execution_count": 9,
   "metadata": {
    "collapsed": false
   },
   "outputs": [
    {
     "data": {
      "image/png": "[encoded data removed]",
      "text/plain": [
       "<matplotlib.figure.Figure at 0x11d33c490>"
      ]
     },
     "metadata": {},
     "output_type": "display_data"
    }
   ],
   "source": [
    "make_and_plot_pmf(terrorism.wounded, \"number of wounded in an attack\")"
   ]
  },
  {
   "cell_type": "markdown",
   "metadata": {},
   "source": [
    "Below is a Pmf showing the number of terrorist incident recorded for each country around the globe, where each country\n",
    "is denoted by a categorical number. Note that the largest peak, number 95, corresponds to Iraq. The US, which is number 217, is actually much smaller in comparison to much of the terrorism incidents that occur around the world."
   ]
  },
  {
   "cell_type": "code",
   "execution_count": 10,
   "metadata": {
    "collapsed": false,
    "scrolled": false
   },
   "outputs": [
    {
     "data": {
      "image/png": "[encoded data removed]",
      "text/plain": [
       "<matplotlib.figure.Figure at 0x11d4985d0>"
      ]
     },
     "metadata": {},
     "output_type": "display_data"
    }
   ],
   "source": [
    "make_and_plot_pmf(terrorism.country, \"country ID\")"
   ]
  },
  {
   "cell_type": "markdown",
   "metadata": {},
   "source": [
    "Below is a Pmf showing the showing whether property damage occurred at each incident. Note that for this category, it appears that the distribution favors more property damage, so it seems at first glance that a terrorist incident will likely include some form of property costs because of damage, explosion, etc."
   ]
  },
  {
   "cell_type": "code",
   "execution_count": 11,
   "metadata": {
    "collapsed": false,
    "scrolled": true
   },
   "outputs": [
    {
     "data": {
      "image/png": "[encoded data removed]",
      "text/plain": [
       "<matplotlib.figure.Figure at 0x11d69c210>"
      ]
     },
     "metadata": {},
     "output_type": "display_data"
    }
   ],
   "source": [
    "make_and_plot_pmf(terrorism.propdmg, \"property damage or no\")"
   ]
  },
  {
   "cell_type": "markdown",
   "metadata": {},
   "source": [
    "Below if a Pmf showing the success of a terrorist incident. Notice that virtually every incident is deemed a success by the database. However, upon reading the documentation, it appears that \"success\" is considered achieved is something happens at the location of the incident. For example, if the method of attack was a bombing assault, and if one bomb goes off, then that is considered a success, even if the bomb did not damage any property or injure anyone. Because this category is so inclusive, we will not be using in the actual analysis. It is left here to show that it was once considered, but further scrutiny ruled it out."
   ]
  },
  {
   "cell_type": "code",
   "execution_count": 12,
   "metadata": {
    "collapsed": false,
    "scrolled": true
   },
   "outputs": [
    {
     "data": {
      "image/png": "[encoded data removed]",
      "text/plain": [
       "<matplotlib.figure.Figure at 0x11d7bec50>"
      ]
     },
     "metadata": {},
     "output_type": "display_data"
    }
   ],
   "source": [
    "make_and_plot_pmf(terrorism.success, \"success or failure\")"
   ]
  },
  {
   "cell_type": "markdown",
   "metadata": {},
   "source": [
    "### Analysis"
   ]
  },
  {
   "cell_type": "markdown",
   "metadata": {},
   "source": [
    "The following cells show the analysis used in this report. "
   ]
  },
  {
   "cell_type": "markdown",
   "metadata": {},
   "source": [
    "First, to measure whether or not the country had any predictive power on the fatality of the incident, I used an OLS regression engine to see if such a correlation existed."
   ]
  },
  {
   "cell_type": "code",
   "execution_count": null,
   "metadata": {
    "collapsed": false,
    "scrolled": true
   },
   "outputs": [],
   "source": []
  },
  {
   "cell_type": "markdown",
   "metadata": {},
   "source": [
    "Looking at the results of the regression, the R-squared value is very low, showing little predictive power. The p-values for the countries are all over the place, from being 0 (very statistically significant) to being almost 1 (quite likely to be due to chance). As such, it appears that there death toll from terrorist incidents is not related to the location of where it occurred.\n",
    "\n",
    "The calculation of the RMSEs with and without the model also proves this idea:"
   ]
  },
  {
   "cell_type": "code",
   "execution_count": 13,
   "metadata": {
    "collapsed": false,
    "scrolled": true
   },
   "outputs": [
    {
     "data": {
      "text/plain": [
       "(11.421270347657396, 11.364020511717468)"
      ]
     },
     "execution_count": 13,
     "metadata": {},
     "output_type": "execute_result"
    }
   ],
   "source": [
    "Rwithout, Rwith = calculate_RMSE(terrorism.fatals, .01)\n",
    "Rwithout, Rwith"
   ]
  },
  {
   "cell_type": "markdown",
   "metadata": {},
   "source": [
    "Next, we looked at the wounded count and whether location of the incident had any predictive power on the number of wounded people from an incident. Again, I used OLS regression to see any correlation existed."
   ]
  },
  {
   "cell_type": "code",
   "execution_count": null,
   "metadata": {
    "collapsed": false,
    "scrolled": true
   },
   "outputs": [],
   "source": []
  },
  {
   "cell_type": "markdown",
   "metadata": {},
   "source": [
    "Looking at the results of the regression, the R-squared value is even lower this time surprisingly, showing even less little predictive power than for death count. The p-values for the countries are all over the place, from being 0 (very statistically significant) to being almost 1 (quite likely to be due to chance). As such, it appears that terrorist incidents are not region-specific, and two very different locations could have an equally likely chance of experiencing a catastrophic terrorist attack, should one occur.\n",
    "\n",
    "The calculation of the RMSEs with and without the model also proves this idea:"
   ]
  },
  {
   "cell_type": "code",
   "execution_count": 14,
   "metadata": {
    "collapsed": false
   },
   "outputs": [
    {
     "data": {
      "text/plain": [
       "(22.722313053878182, 22.665436085940431)"
      ]
     },
     "execution_count": 14,
     "metadata": {},
     "output_type": "execute_result"
    }
   ],
   "source": [
    "Rwithout, Rwith = calculate_RMSE(terrorism.wounded, .005)\n",
    "Rwithout, Rwith"
   ]
  },
  {
   "cell_type": "markdown",
   "metadata": {},
   "source": [
    "As a final tidbit, I tried to include more categorical variables as well, such as property damage and success, even whether the country of attack matched the nationality of the target. Unfortunately, for some reason, I received an error that I couldn't resolve no matter what. Looking for hours on the internet, I discovered that a few others have had the exact same problem I had, and that even the statsmodels creators themselves stated that there was no easy fix to the problem. I will include a link to a post I found relevant to this error and lack of solution to this problem. I will show the error for the purposes of documentation, in the hopes that someone else will be able to resolve this someday after me.\n",
    "\n",
    "Link to problem: http://stackoverflow.com/questions/27413873/statsmodels-logistic-regression-convergence-problems"
   ]
  },
  {
   "cell_type": "markdown",
   "metadata": {
    "collapsed": false
   },
   "source": [
    "# Experimentation"
   ]
  },
  {
   "cell_type": "code",
   "execution_count": 15,
   "metadata": {
    "collapsed": false
   },
   "outputs": [
    {
     "data": {
      "text/plain": [
       "14    11727\n",
       "4      6894\n",
       "3      6008\n",
       "2      3853\n",
       "1      3364\n",
       "17     1354\n",
       "15     1142\n",
       "20     1107\n",
       "19     1094\n",
       "7       779\n",
       "8       727\n",
       "21      610\n",
       "10      585\n",
       "22      373\n",
       "6       261\n",
       "18      140\n",
       "13      130\n",
       "12      114\n",
       "16       69\n",
       "11       46\n",
       "9        45\n",
       "Name: targtype1, dtype: int64"
      ]
     },
     "execution_count": 15,
     "metadata": {},
     "output_type": "execute_result"
    },
    {
     "data": {
      "image/png": "[encoded data removed]",
      "text/plain": [
       "<matplotlib.figure.Figure at 0x11d7be590>"
      ]
     },
     "metadata": {},
     "output_type": "display_data"
    }
   ],
   "source": [
    "middleEast = terrorism[terrorism.region == 10]\n",
    "make_and_plot_pmf(middleEast.weaptype1, \"testing\")\n",
    "middleEast.targtype1.value_counts()"
   ]
  },
  {
   "cell_type": "code",
   "execution_count": 16,
   "metadata": {
    "collapsed": false
   },
   "outputs": [
    {
     "data": {
      "text/plain": [
       "1     885\n",
       "14    422\n",
       "2     410\n",
       "5     257\n",
       "3     219\n",
       "4     208\n",
       "7     178\n",
       "8     173\n",
       "15    117\n",
       "21    100\n",
       "10     98\n",
       "6      54\n",
       "19     35\n",
       "12     34\n",
       "22     17\n",
       "20     14\n",
       "18     11\n",
       "16     10\n",
       "9       8\n",
       "11      8\n",
       "17      8\n",
       "13      2\n",
       "Name: targtype1, dtype: int64"
      ]
     },
     "execution_count": 16,
     "metadata": {},
     "output_type": "execute_result"
    },
    {
     "data": {
      "image/png": "[encoded data removed]",
      "text/plain": [
       "<matplotlib.figure.Figure at 0x11d62b550>"
      ]
     },
     "metadata": {},
     "output_type": "display_data"
    }
   ],
   "source": [
    "NA = terrorism[terrorism.region == 1]\n",
    "make_and_plot_pmf(NA.weaptype1, \"testing\")\n",
    "NA.targtype1.value_counts()"
   ]
  },
  {
   "cell_type": "code",
   "execution_count": 46,
   "metadata": {
    "collapsed": false
   },
   "outputs": [
    {
     "name": "stdout",
     "output_type": "stream",
     "text": [
      "3290\n",
      "27\n"
     ]
    },
    {
     "data": {
      "text/plain": [
       "{'xscale': 'linear', 'yscale': 'linear'}"
      ]
     },
     "execution_count": 46,
     "metadata": {},
     "output_type": "execute_result"
    },
    {
     "data": {
      "image/png": "[encoded data removed]",
      "text/plain": [
       "<matplotlib.figure.Figure at 0x11d1c3850>"
      ]
     },
     "metadata": {},
     "output_type": "display_data"
    }
   ],
   "source": [
    "names = terrorism[\"gname\"]\n",
    "booty = {}\n",
    "for name in names:\n",
    "    booty[name] = booty.get(name, 0) + 1\n",
    "print len(booty)\n",
    "chick = booty.values()\n",
    "chick = sorted(chick, reverse=True)\n",
    "chick = chick[1:]\n",
    "temp = np.arange(len(chick))\n",
    "full = zip(temp, chick)\n",
    "chicken = {}\n",
    "for rank, freq in full:\n",
    "    chicken[rank] = freq\n",
    "pmf = thinkstats2.Pmf(chicken)\n",
    "cdf = thinkstats2.Cdf(pmf)\n",
    "print cdf.Percentile(55)\n",
    "thinkplot.Cdf(cdf)"
   ]
  },
  {
   "cell_type": "code",
   "execution_count": 52,
   "metadata": {
    "collapsed": false
   },
   "outputs": [
    {
     "name": "stdout",
     "output_type": "stream",
     "text": [
      "[(u'Taliban', 5502), (u'Shining Path (SL)', 4548), (u'Farabundo Marti National Liberation Front (FMLN)', 3351), (u'Islamic State of Iraq and the Levant (ISIL)', 2833), (u'Irish Republican Army (IRA)', 2670), (u'Revolutionary Armed Forces of Colombia (FARC)', 2474), (u\"New People's Army (NPA)\", 2241), (u'Al-Shabaab', 2127), (u'Basque Fatherland and Freedom (ETA)', 2024), (u'Boko Haram', 1839), (u\"Kurdistan Workers' Party (PKK)\", 1782), (u'Communist Party of India - Maoist (CPI-Maoist)', 1666), (u'Liberation Tigers of Tamil Eelam (LTTE)', 1606), (u'National Liberation Army of Colombia (ELN)', 1418), (u'Tehrik-i-Taliban Pakistan (TTP)', 1153), (u'Maoists', 1141), (u'Palestinians', 1124), (u'Nicaraguan Democratic Force (FDN)', 895), (u'Al-Qaida in the Arabian Peninsula (AQAP)', 893), (u'Manuel Rodriguez Patriotic Front (FPMR)', 830), (u'Sikh Extremists', 714), (u'Corsican National Liberation Front (FLNC)', 639), (u'Al-Qaida in Iraq', 635), (u'African National Congress (South Africa)', 606), (u\"Donetsk People's Republic\", 600), (u'Tupac Amaru Revolutionary Movement (MRTA)', 557), (u'M-19 (Movement of April 19)', 554), (u'Huthi Extremists', 554), (u'Unaffiliated Individual(s)', 545)]\n"
     ]
    }
   ],
   "source": [
    "toplist = []\n",
    "for name, freq in booty.items():\n",
    "    toplist.append((name, freq))\n",
    "\n",
    "toplist = sorted(toplist, reverse=True, key=lambda x: x[1])\n",
    "print toplist[1:30]"
   ]
  },
  {
   "cell_type": "code",
   "execution_count": 59,
   "metadata": {
    "collapsed": false
   },
   "outputs": [
    {
     "data": {
      "text/html": [
       "<div>\n",
       "<table border=\"1\" class=\"dataframe\">\n",
       "  <thead>\n",
       "    <tr style=\"text-align: right;\">\n",
       "      <th></th>\n",
       "      <th>Country Name</th>\n",
       "      <th>Country Code</th>\n",
       "      <th>Indicator Name</th>\n",
       "      <th>Indicator Code</th>\n",
       "      <th>1960</th>\n",
       "      <th>1961</th>\n",
       "      <th>1962</th>\n",
       "      <th>1963</th>\n",
       "      <th>1964</th>\n",
       "      <th>1965</th>\n",
       "      <th>...</th>\n",
       "      <th>2007</th>\n",
       "      <th>2008</th>\n",
       "      <th>2009</th>\n",
       "      <th>2010</th>\n",
       "      <th>2011</th>\n",
       "      <th>2012</th>\n",
       "      <th>2013</th>\n",
       "      <th>2014</th>\n",
       "      <th>2015</th>\n",
       "      <th>2016</th>\n",
       "    </tr>\n",
       "  </thead>\n",
       "  <tbody>\n",
       "    <tr>\n",
       "      <th>0</th>\n",
       "      <td>Aruba</td>\n",
       "      <td>ABW</td>\n",
       "      <td>Population, total</td>\n",
       "      <td>SP.POP.TOTL</td>\n",
       "      <td>54208.0</td>\n",
       "      <td>55435.0</td>\n",
       "      <td>56226.0</td>\n",
       "      <td>56697.0</td>\n",
       "      <td>57029.0</td>\n",
       "      <td>57360.0</td>\n",
       "      <td>...</td>\n",
       "      <td>101218.0</td>\n",
       "      <td>101342.0</td>\n",
       "      <td>101416.0</td>\n",
       "      <td>101597.0</td>\n",
       "      <td>101936.0</td>\n",
       "      <td>102393.0</td>\n",
       "      <td>102921.0</td>\n",
       "      <td>103441.0</td>\n",
       "      <td>103889.0</td>\n",
       "      <td>NaN</td>\n",
       "    </tr>\n",
       "    <tr>\n",
       "      <th>1</th>\n",
       "      <td>Andorra</td>\n",
       "      <td>AND</td>\n",
       "      <td>Population, total</td>\n",
       "      <td>SP.POP.TOTL</td>\n",
       "      <td>13414.0</td>\n",
       "      <td>14376.0</td>\n",
       "      <td>15376.0</td>\n",
       "      <td>16410.0</td>\n",
       "      <td>17470.0</td>\n",
       "      <td>18551.0</td>\n",
       "      <td>...</td>\n",
       "      <td>84878.0</td>\n",
       "      <td>85616.0</td>\n",
       "      <td>85474.0</td>\n",
       "      <td>84419.0</td>\n",
       "      <td>82326.0</td>\n",
       "      <td>79316.0</td>\n",
       "      <td>75902.0</td>\n",
       "      <td>72786.0</td>\n",
       "      <td>70473.0</td>\n",
       "      <td>NaN</td>\n",
       "    </tr>\n",
       "    <tr>\n",
       "      <th>2</th>\n",
       "      <td>Afghanistan</td>\n",
       "      <td>AFG</td>\n",
       "      <td>Population, total</td>\n",
       "      <td>SP.POP.TOTL</td>\n",
       "      <td>8994793.0</td>\n",
       "      <td>9164945.0</td>\n",
       "      <td>9343772.0</td>\n",
       "      <td>9531555.0</td>\n",
       "      <td>9728645.0</td>\n",
       "      <td>9935358.0</td>\n",
       "      <td>...</td>\n",
       "      <td>25877544.0</td>\n",
       "      <td>26528741.0</td>\n",
       "      <td>27207291.0</td>\n",
       "      <td>27962207.0</td>\n",
       "      <td>28809167.0</td>\n",
       "      <td>29726803.0</td>\n",
       "      <td>30682500.0</td>\n",
       "      <td>31627506.0</td>\n",
       "      <td>32526562.0</td>\n",
       "      <td>NaN</td>\n",
       "    </tr>\n",
       "    <tr>\n",
       "      <th>3</th>\n",
       "      <td>Angola</td>\n",
       "      <td>AGO</td>\n",
       "      <td>Population, total</td>\n",
       "      <td>SP.POP.TOTL</td>\n",
       "      <td>5270844.0</td>\n",
       "      <td>5367287.0</td>\n",
       "      <td>5465905.0</td>\n",
       "      <td>5565808.0</td>\n",
       "      <td>5665701.0</td>\n",
       "      <td>5765025.0</td>\n",
       "      <td>...</td>\n",
       "      <td>19183907.0</td>\n",
       "      <td>19842251.0</td>\n",
       "      <td>20520103.0</td>\n",
       "      <td>21219954.0</td>\n",
       "      <td>21942296.0</td>\n",
       "      <td>22685632.0</td>\n",
       "      <td>23448202.0</td>\n",
       "      <td>24227524.0</td>\n",
       "      <td>25021974.0</td>\n",
       "      <td>NaN</td>\n",
       "    </tr>\n",
       "    <tr>\n",
       "      <th>4</th>\n",
       "      <td>Albania</td>\n",
       "      <td>ALB</td>\n",
       "      <td>Population, total</td>\n",
       "      <td>SP.POP.TOTL</td>\n",
       "      <td>1608800.0</td>\n",
       "      <td>1659800.0</td>\n",
       "      <td>1711319.0</td>\n",
       "      <td>1762621.0</td>\n",
       "      <td>1814135.0</td>\n",
       "      <td>1864791.0</td>\n",
       "      <td>...</td>\n",
       "      <td>2970017.0</td>\n",
       "      <td>2947314.0</td>\n",
       "      <td>2927519.0</td>\n",
       "      <td>2913021.0</td>\n",
       "      <td>2904780.0</td>\n",
       "      <td>2900247.0</td>\n",
       "      <td>2896652.0</td>\n",
       "      <td>2893654.0</td>\n",
       "      <td>2889167.0</td>\n",
       "      <td>NaN</td>\n",
       "    </tr>\n",
       "  </tbody>\n",
       "</table>\n",
       "<p>5 rows × 61 columns</p>\n",
       "</div>"
      ],
      "text/plain": [
       "  Country Name Country Code     Indicator Name Indicator Code       1960  \\\n",
       "0        Aruba          ABW  Population, total    SP.POP.TOTL    54208.0   \n",
       "1      Andorra          AND  Population, total    SP.POP.TOTL    13414.0   \n",
       "2  Afghanistan          AFG  Population, total    SP.POP.TOTL  8994793.0   \n",
       "3       Angola          AGO  Population, total    SP.POP.TOTL  5270844.0   \n",
       "4      Albania          ALB  Population, total    SP.POP.TOTL  1608800.0   \n",
       "\n",
       "        1961       1962       1963       1964       1965  ...         2007  \\\n",
       "0    55435.0    56226.0    56697.0    57029.0    57360.0  ...     101218.0   \n",
       "1    14376.0    15376.0    16410.0    17470.0    18551.0  ...      84878.0   \n",
       "2  9164945.0  9343772.0  9531555.0  9728645.0  9935358.0  ...   25877544.0   \n",
       "3  5367287.0  5465905.0  5565808.0  5665701.0  5765025.0  ...   19183907.0   \n",
       "4  1659800.0  1711319.0  1762621.0  1814135.0  1864791.0  ...    2970017.0   \n",
       "\n",
       "         2008        2009        2010        2011        2012        2013  \\\n",
       "0    101342.0    101416.0    101597.0    101936.0    102393.0    102921.0   \n",
       "1     85616.0     85474.0     84419.0     82326.0     79316.0     75902.0   \n",
       "2  26528741.0  27207291.0  27962207.0  28809167.0  29726803.0  30682500.0   \n",
       "3  19842251.0  20520103.0  21219954.0  21942296.0  22685632.0  23448202.0   \n",
       "4   2947314.0   2927519.0   2913021.0   2904780.0   2900247.0   2896652.0   \n",
       "\n",
       "         2014        2015  2016  \n",
       "0    103441.0    103889.0   NaN  \n",
       "1     72786.0     70473.0   NaN  \n",
       "2  31627506.0  32526562.0   NaN  \n",
       "3  24227524.0  25021974.0   NaN  \n",
       "4   2893654.0   2889167.0   NaN  \n",
       "\n",
       "[5 rows x 61 columns]"
      ]
     },
     "execution_count": 59,
     "metadata": {},
     "output_type": "execute_result"
    }
   ],
   "source": [
    "worldpop = pd.read_csv('../../worldpop.csv', sep='\\t')\n",
    "worldpop.head()"
   ]
  },
  {
   "cell_type": "code",
   "execution_count": 67,
   "metadata": {
    "collapsed": false
   },
   "outputs": [
    {
     "data": {
      "text/html": [
       "<div>\n",
       "<table border=\"1\" class=\"dataframe\">\n",
       "  <thead>\n",
       "    <tr style=\"text-align: right;\">\n",
       "      <th></th>\n",
       "      <th>Country Name</th>\n",
       "      <th>Country Code</th>\n",
       "      <th>Indicator Name</th>\n",
       "      <th>Indicator Code</th>\n",
       "      <th>1960</th>\n",
       "      <th>1961</th>\n",
       "      <th>1962</th>\n",
       "      <th>1963</th>\n",
       "      <th>1964</th>\n",
       "      <th>1965</th>\n",
       "      <th>...</th>\n",
       "      <th>2007</th>\n",
       "      <th>2008</th>\n",
       "      <th>2009</th>\n",
       "      <th>2010</th>\n",
       "      <th>2011</th>\n",
       "      <th>2012</th>\n",
       "      <th>2013</th>\n",
       "      <th>2014</th>\n",
       "      <th>2015</th>\n",
       "      <th>2016</th>\n",
       "    </tr>\n",
       "  </thead>\n",
       "  <tbody>\n",
       "    <tr>\n",
       "      <th>248</th>\n",
       "      <td>United States</td>\n",
       "      <td>USA</td>\n",
       "      <td>Population, total</td>\n",
       "      <td>SP.POP.TOTL</td>\n",
       "      <td>180671000.0</td>\n",
       "      <td>183691000.0</td>\n",
       "      <td>186538000.0</td>\n",
       "      <td>189242000.0</td>\n",
       "      <td>191889000.0</td>\n",
       "      <td>194303000.0</td>\n",
       "      <td>...</td>\n",
       "      <td>301231207.0</td>\n",
       "      <td>304093966.0</td>\n",
       "      <td>306771529.0</td>\n",
       "      <td>309346863.0</td>\n",
       "      <td>311718857.0</td>\n",
       "      <td>314102623.0</td>\n",
       "      <td>316427395.0</td>\n",
       "      <td>318907401.0</td>\n",
       "      <td>321418820.0</td>\n",
       "      <td>NaN</td>\n",
       "    </tr>\n",
       "  </tbody>\n",
       "</table>\n",
       "<p>1 rows × 61 columns</p>\n",
       "</div>"
      ],
      "text/plain": [
       "      Country Name Country Code     Indicator Name Indicator Code  \\\n",
       "248  United States          USA  Population, total    SP.POP.TOTL   \n",
       "\n",
       "            1960         1961         1962         1963         1964  \\\n",
       "248  180671000.0  183691000.0  186538000.0  189242000.0  191889000.0   \n",
       "\n",
       "            1965  ...          2007         2008         2009         2010  \\\n",
       "248  194303000.0  ...   301231207.0  304093966.0  306771529.0  309346863.0   \n",
       "\n",
       "            2011         2012         2013         2014         2015  2016  \n",
       "248  311718857.0  314102623.0  316427395.0  318907401.0  321418820.0   NaN  \n",
       "\n",
       "[1 rows x 61 columns]"
      ]
     },
     "execution_count": 67,
     "metadata": {},
     "output_type": "execute_result"
    }
   ],
   "source": [
    "country = worldpop[worldpop['Country Name']=='United States']\n",
    "country"
   ]
  },
  {
   "cell_type": "code",
   "execution_count": null,
   "metadata": {
    "collapsed": true
   },
   "outputs": [],
   "source": []
  },
  {
   "cell_type": "code",
   "execution_count": null,
   "metadata": {
    "collapsed": true
   },
   "outputs": [],
   "source": []
  }
 ],
 "metadata": {
  "kernelspec": {
   "display_name": "Python 2",
   "language": "python",
   "name": "python2"
  },
  "language_info": {
   "codemirror_mode": {
    "name": "ipython",
    "version": 2
   },
   "file_extension": ".py",
   "mimetype": "text/x-python",
   "name": "python",
   "nbconvert_exporter": "python",
   "pygments_lexer": "ipython2",
   "version": "2.7.12"
  }
 },
 "nbformat": 4,
 "nbformat_minor": 0
}
