{
 "cells": [
  {
   "cell_type": "markdown",
   "metadata": {},
   "source": [
    "# Report 1 - European Social Survey\n",
    "\n",
    "## Kevin Zhang\n",
    "\n",
    "Data Science\n",
    "\n",
    "1/25/2017\n",
    "\n",
    "http://www.europeansocialsurvey.org/\n",
    "\n",
    "http://www.europeansocialsurvey.org/downloadwizard/"
   ]
  },
  {
   "cell_type": "code",
   "execution_count": 29,
   "metadata": {
    "collapsed": false
   },
   "outputs": [],
   "source": [
    "%matplotlib inline\n",
    "\n",
    "import thinkstats2, thinkplot\n",
    "import pandas as pd\n",
    "import numpy as np"
   ]
  },
  {
   "cell_type": "code",
   "execution_count": 30,
   "metadata": {
    "collapsed": false
   },
   "outputs": [],
   "source": [
    "ess = pd.read_stata('../../ESS7e02_1.dta',convert_categoricals=False,convert_missing=False)"
   ]
  },
  {
   "cell_type": "code",
   "execution_count": 50,
   "metadata": {
    "collapsed": true
   },
   "outputs": [],
   "source": [
    "def clean_out_baddies(data):\n",
    "    \"\"\"\n",
    "    currently just takes a series and clean out 66, 77, 88, and 99, which are all bad responses.\n",
    "    Working on more robust implementation.\n",
    "    \"\"\"\n",
    "    for label, value in data.iteritems():\n",
    "        if value == 66.0 or value == 77.0 or value == 88.0 or value == 99.0:\n",
    "            data.drop(label)\n",
    "            print value\n",
    "    return data\n"
   ]
  },
  {
   "cell_type": "code",
   "execution_count": 51,
   "metadata": {
    "collapsed": false
   },
   "outputs": [
    {
     "name": "stdout",
     "output_type": "stream",
     "text": [
      "88.0\n",
      "88.0\n",
      "88.0\n",
      "88.0\n",
      "88.0\n",
      "88.0\n",
      "88.0\n",
      "88.0\n",
      "88.0\n",
      "88.0\n",
      "88.0\n",
      "88.0\n",
      "88.0\n",
      "88.0\n",
      "88.0\n",
      "99.0\n",
      "88.0\n",
      "88.0\n",
      "88.0\n",
      "88.0\n",
      "99.0\n",
      "77.0\n",
      "88.0\n",
      "88.0\n",
      "77.0\n",
      "88.0\n",
      "88.0\n",
      "88.0\n",
      "88.0\n",
      "88.0\n",
      "88.0\n",
      "88.0\n",
      "88.0\n",
      "88.0\n",
      "88.0\n",
      "88.0\n",
      "88.0\n",
      "88.0\n",
      "88.0\n",
      "88.0\n",
      "88.0\n",
      "88.0\n",
      "88.0\n",
      "88.0\n",
      "88.0\n",
      "88.0\n",
      "88.0\n",
      "88.0\n",
      "88.0\n",
      "88.0\n",
      "88.0\n",
      "88.0\n",
      "88.0\n",
      "88.0\n",
      "88.0\n",
      "88.0\n",
      "88.0\n",
      "88.0\n",
      "88.0\n",
      "88.0\n",
      "88.0\n",
      "88.0\n",
      "88.0\n",
      "88.0\n",
      "88.0\n",
      "88.0\n",
      "88.0\n",
      "88.0\n",
      "88.0\n",
      "88.0\n",
      "88.0\n",
      "77.0\n",
      "88.0\n",
      "88.0\n",
      "True\n"
     ]
    }
   ],
   "source": [
    "snooping1 = ess['tvtot']\n",
    "snooping1 = clean_out_baddies(snooping1)\n",
    "snooping1_pmf = thinkstats2.Pmf(snooping1, label=\"snooping1\")\n",
    "if 88 in snooping1.values:\n",
    "    print True"
   ]
  },
  {
   "cell_type": "code",
   "execution_count": 41,
   "metadata": {
    "collapsed": false
   },
   "outputs": [
    {
     "data": {
      "image/png": "[encoded data removed]",
      "text/plain": [
       "<matplotlib.figure.Figure at 0x123bc8d90>"
      ]
     },
     "metadata": {},
     "output_type": "display_data"
    }
   ],
   "source": [
    "thinkplot.Hist(snooping1_pmf)\n",
    "thinkplot.Config(xlabel=\"total tv time\", ylabel=\"Pmf\")"
   ]
  },
  {
   "cell_type": "code",
   "execution_count": null,
   "metadata": {
    "collapsed": true
   },
   "outputs": [],
   "source": []
  },
  {
   "cell_type": "code",
   "execution_count": null,
   "metadata": {
    "collapsed": true
   },
   "outputs": [],
   "source": []
  }
 ],
 "metadata": {
  "kernelspec": {
   "display_name": "Python 2",
   "language": "python",
   "name": "python2"
  },
  "language_info": {
   "codemirror_mode": {
    "name": "ipython",
    "version": 2
   },
   "file_extension": ".py",
   "mimetype": "text/x-python",
   "name": "python",
   "nbconvert_exporter": "python",
   "pygments_lexer": "ipython2",
   "version": "2.7.12"
  }
 },
 "nbformat": 4,
 "nbformat_minor": 0
}
