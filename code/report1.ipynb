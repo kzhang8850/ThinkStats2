{
 "cells": [
  {
   "cell_type": "markdown",
   "metadata": {},
   "source": [
    "# Do More Politically Informed People Identify as Liberal?\n",
    "\n",
    "## Kevin Zhang\n",
    "\n",
    "Data Science\n",
    "\n",
    "2/14/2017\n",
    "\n",
    "#### Documentation/Reference/Works Cited\n",
    "\n",
    "Data Source:\n",
    "http://www.europeansocialsurvey.org/\n",
    "\n",
    "Data Documentation, Variables, Legend:\n",
    "http://www.europeansocialsurvey.org/downloadwizard/\n",
    "\n",
    "Reference to some of the methods used:\n",
    "https://github.com/AllenDowney/ProbablyOverthinkingIt/blob/master/ess.py"
   ]
  },
  {
   "cell_type": "markdown",
   "metadata": {},
   "source": [
    "## About this Notebook\n",
    "\n",
    "This notebook is the source code for the data science report done on whether more informed people were more likely to be liberal than less informed people. The basis for the idea is that since America's liberals view the vast majority of conservatives as uneducated or ignorant of the facts, i.e. \"if only they knew what was really going on\", they would believe in more progressive and liberal policies if they were more informed, such as debates regarding global warming or abortions etc. Personally identifying as liberal, I was curious as to whether this belief was true for other countries, not just the US.\n",
    "\n",
    "The code below outlines my methodology for gathering, cleaning, and analyzing the data. Basically, I found a dataset from the European Social Survey, and discovered data on the amount of time the population spends watching politics or current affairs on TV, the most viewed medium for information distribution in Europe. I then broke the population into four sections based on time spent watching politics on TV, and compared these different sections to each other for various politically controversial topics. \n",
    "\n",
    "The main concepts used for comparison were CDFs, PMFs and means, which were deemed accurate enough for the purposes of this project. The Cohen Effect Size was also used as a more quantitative measurement of statistical significance and differences between groups.\n",
    "\n",
    "The overall result is that there doesn't seem to be much of a correlation between the amount of time spent getting informed on politics and the opinions that people have on certain policies. This is reasonable as it would suggest that just because a person watches a lot of politics on TV doesn't mean that they're watching a politically neutral channel or that it changes their inner perceptions of various policies. Perhaps political opinions are shaped by more personal beliefs or maybe more external communities, rather than just by how informed a person is.\n",
    "\n",
    "Rather, there was some potential insight into the idea that being more informed might just make people more polarized in their political standing instead of just being more liberal. The lrscale CDF graph speaks most to that idea.\n",
    "\n",
    "For a full breakdown of the code, feel free to continue reading."
   ]
  },
  {
   "cell_type": "code",
   "execution_count": 2,
   "metadata": {
    "collapsed": false
   },
   "outputs": [],
   "source": [
    "%matplotlib inline\n",
    "\n",
    "import thinkstats2, thinkplot\n",
    "import pandas as pd\n",
    "import numpy as np"
   ]
  },
  {
   "cell_type": "code",
   "execution_count": 3,
   "metadata": {
    "collapsed": true
   },
   "outputs": [],
   "source": [
    "def clean_dataframe(df):\n",
    "    \"\"\"\n",
    "    Takes the entire Pandas dataframe and cleans out all bad responses associated with the data that I am specifically\n",
    "    looking to by replacing them with NaNs. Can then use dropna() to fully clean out data later.\n",
    "    \n",
    "    Input: Pandas dataframe\n",
    "    Output: dataframe that has been cleaned out with NaNs\n",
    "    \"\"\"\n",
    "    df.tvpol.replace([66, 77, 88, 99], np.nan, inplace=True)\n",
    "    df.rdpol.replace([66, 77, 88, 99], np.nan, inplace=True)\n",
    "    df.nwsppol.replace([66, 77, 88, 99], np.nan, inplace=True)\n",
    "    df.polintr.replace([7, 8, 9], np.nan, inplace=True)\n",
    "    df.lrscale.replace([77, 88, 99], np.nan, inplace=True)\n",
    "    df.happy.replace([77, 88, 99], np.nan, inplace=True)\n",
    "    df.gincdif.replace([7, 8, 9], np.nan, inplace=True)\n",
    "    df.freehms.replace([7, 8, 9], np.nan, inplace=True)\n",
    "    df.imdfetn.replace([7, 8, 9], np.nan, inplace=True)\n",
    "    df.scnsenv.replace([7, 8, 9], np.nan, inplace=True)\n",
    "    df.prtyban.replace([7, 8, 9], np.nan, inplace=True)\n",
    "    df.hinctnta.replace([77, 88, 99], np.nan, inplace=True)\n",
    "    return df\n"
   ]
  },
  {
   "cell_type": "code",
   "execution_count": 4,
   "metadata": {
    "collapsed": true
   },
   "outputs": [],
   "source": [
    "def make_and_plot_pmf(series, label):\n",
    "    \"\"\"\n",
    "    Takes a category and makes a pmf. Then also plots the pmf using hist.\n",
    "    \n",
    "    Input: Category string\n",
    "    Output: pmf plot\n",
    "    \"\"\"\n",
    "    series_pmf = thinkstats2.Pmf(series, label=label)\n",
    "    thinkplot.Hist(series_pmf)\n",
    "    thinkplot.Config(xlabel=label, ylabel=\"pmf\", loc=\"upper right\")\n"
   ]
  },
  {
   "cell_type": "code",
   "execution_count": 5,
   "metadata": {
    "collapsed": true
   },
   "outputs": [],
   "source": [
    "def make_and_plot_cdf(sections, category, label):\n",
    "    \"\"\"\n",
    "    Takes a category and makes a cdf on the 4 different sections. Then plots and returns the cdfs.\n",
    "    \n",
    "    Input: 4 sections, category, label\n",
    "    Output: cdf plot of the category separated into the 4 sections\n",
    "    \"\"\"\n",
    "    cdfList = []\n",
    "    secnames = [\"very_little\",\"moderate\",\"high\",\"very_high\"]\n",
    "    counter = 0\n",
    "    for section in sections:\n",
    "        cdfList.append(thinkstats2.Cdf(section[category], label=secnames[counter]))\n",
    "        counter += 1\n",
    "    thinkplot.PrePlot(4)\n",
    "    thinkplot.Cdfs(cdfList)\n",
    "    thinkplot.Config(xlabel=label, ylabel=\"cdf\", loc=\"lower right\")"
   ]
  },
  {
   "cell_type": "code",
   "execution_count": 6,
   "metadata": {
    "collapsed": false
   },
   "outputs": [],
   "source": [
    "def mean_comparison(sections, category):\n",
    "    \"\"\"\n",
    "    Takes a category and finds the means for each of the 4 sections based on that category.\n",
    "    \n",
    "    Input: 4 sections, category\n",
    "    Output: mean of the category separated into the 4 sections\n",
    "    \"\"\"\n",
    "        \n",
    "    secnames = [\"very_little-\",\"moderate----\",\"high--------\",\"very_high---\"]\n",
    "    counter = 0\n",
    "    print \"under\", category\n",
    "    for section in sections:\n",
    "        print secnames[counter], section[category].mean()\n",
    "        counter += 1"
   ]
  },
  {
   "cell_type": "code",
   "execution_count": 7,
   "metadata": {
    "collapsed": true
   },
   "outputs": [],
   "source": [
    "def cohen_effect_size(group1, group2):\n",
    "    \"\"\"Computes Cohen's effect size for two groups.\n",
    "    \n",
    "    group1: Series or DataFrame\n",
    "    group2: Series or DataFrame\n",
    "    \n",
    "    returns: float if the arguments are Series;\n",
    "             Series if the arguments are DataFrames\n",
    "    \"\"\"\n",
    "    diff = group1.mean() - group2.mean()\n",
    "\n",
    "    var1 = group1.var()\n",
    "    var2 = group2.var()\n",
    "    n1, n2 = len(group1), len(group2)\n",
    "\n",
    "    pooled_var = (n1 * var1 + n2 * var2) / (n1 + n2)\n",
    "    d = diff / np.sqrt(pooled_var)\n",
    "    return d"
   ]
  },
  {
   "cell_type": "code",
   "execution_count": 8,
   "metadata": {
    "collapsed": false
   },
   "outputs": [],
   "source": [
    "#This reads in and cleans up the dataset for ESS5, the dataset collected by the European Social Survey in 2010.\n",
    "#Note that this dataset is used because it's the most recent dataset that contains the most holistic set of data.\n",
    "\n",
    "#For more information on what each of the variables stand for or how they are evaluated, take a look at the \n",
    "#Documentation link above\n",
    "\n",
    "ess5 = pd.read_stata('../../ESS5e03_3.dta',convert_categoricals=False,convert_missing=False)\n",
    "ess5 = clean_dataframe(ess5)\n"
   ]
  },
  {
   "cell_type": "code",
   "execution_count": 9,
   "metadata": {
    "collapsed": true
   },
   "outputs": [],
   "source": [
    "#These lines break down the distribution of tvpol into four different sections (all quantities based on a daily unit): \n",
    "#very_little = 0 - 0.5 hours\n",
    "#moderate = 0.5 - 1.5 hours\n",
    "#high = 1.5 - 2.5 hours\n",
    "#very_high = 2.5+ hours\n",
    "#It then stores these four sections into a list called sections, to be used throughout this codebase\n",
    "\n",
    "very_little = ess5[ess5.tvpol<=1]\n",
    "moderate = ess5[ess5.tvpol.isin([2,3])]\n",
    "high = ess5[ess5.tvpol.isin([4,5])]\n",
    "very_high = ess5[ess5.tvpol>5]\n",
    "sections = [very_little, moderate, high, very_high]"
   ]
  },
  {
   "cell_type": "code",
   "execution_count": 10,
   "metadata": {
    "collapsed": false,
    "scrolled": true
   },
   "outputs": [
    {
     "data": {
      "image/png": "[encoded data removed]",
      "text/plain": [
       "<matplotlib.figure.Figure at 0x110ff03d0>"
      ]
     },
     "metadata": {},
     "output_type": "display_data"
    }
   ],
   "source": [
    "#A general visualization of the entire surveyed population under tvpol, or time spent watching tv for politics or \n",
    "#current affairs\n",
    "\n",
    "tvpol = ess5['tvpol'].dropna()\n",
    "make_and_plot_pmf(tvpol, 'watching politics on tv')\n"
   ]
  },
  {
   "cell_type": "code",
   "execution_count": 11,
   "metadata": {
    "collapsed": false,
    "scrolled": true
   },
   "outputs": [
    {
     "data": {
      "image/png": "[encoded data removed]",
      "text/plain": [
       "<matplotlib.figure.Figure at 0x121ba4ad0>"
      ]
     },
     "metadata": {},
     "output_type": "display_data"
    }
   ],
   "source": [
    "#A general visualzation of the entire surveyed population under lrscale, or where on the political spectrum does each\n",
    "#respondent identify, from left to right\n",
    "\n",
    "series = ess5['lrscale'].dropna()\n",
    "make_and_plot_pmf(series, 'left vs right')\n"
   ]
  },
  {
   "cell_type": "code",
   "execution_count": 12,
   "metadata": {
    "collapsed": false,
    "scrolled": false
   },
   "outputs": [
    {
     "data": {
      "image/png": "[encoded data removed]",
      "text/plain": [
       "<matplotlib.figure.Figure at 0x121b9dd10>"
      ]
     },
     "metadata": {},
     "output_type": "display_data"
    }
   ],
   "source": [
    "#This plots the CDF of the four sections under lrscale\n",
    "#Note that for this category, there's not really a trend, as the cdfs flip in rank once they pass the moderate point\n",
    "#It appears that correlation seems to favor that the higher the informed, the more likely they are to spread out from\n",
    "#the moderate position and develop more polarizing views\n",
    "\n",
    "make_and_plot_cdf(sections, 'lrscale', 'left vs right')    "
   ]
  },
  {
   "cell_type": "code",
   "execution_count": 13,
   "metadata": {
    "collapsed": false,
    "scrolled": true
   },
   "outputs": [
    {
     "name": "stdout",
     "output_type": "stream",
     "text": [
      "under lrscale\n",
      "very_little- 5.15566815213\n",
      "moderate---- 5.1735021735\n",
      "high-------- 5.12765957447\n",
      "very_high--- 5.23688811189\n"
     ]
    }
   ],
   "source": [
    "#The means confirm the above idea that little correlation exists.\n",
    "\n",
    "mean_comparison(sections, 'lrscale')"
   ]
  },
  {
   "cell_type": "code",
   "execution_count": 14,
   "metadata": {
    "collapsed": false
   },
   "outputs": [
    {
     "data": {
      "text/plain": [
       "-0.03807707780241041"
      ]
     },
     "execution_count": 14,
     "metadata": {},
     "output_type": "execute_result"
    }
   ],
   "source": [
    "# the Cohen Effect Size is not very significant, showing that level of information doesn't mean a whole lot towards\n",
    "#whether a person is more liberal\n",
    "\n",
    "cohen_effect_size(sections[0].lrscale, sections[3].lrscale)"
   ]
  },
  {
   "cell_type": "code",
   "execution_count": 54,
   "metadata": {
    "collapsed": false,
    "scrolled": false
   },
   "outputs": [
    {
     "data": {
      "image/png": "[encoded data removed]",
      "text/plain": [
       "<matplotlib.figure.Figure at 0x123247e50>"
      ]
     },
     "metadata": {},
     "output_type": "display_data"
    }
   ],
   "source": [
    "# Proving the point about more informed people being more polarized, the following two graphs show that the Pmf \n",
    "# distribution of the most informed and least informed, respectively. Notice that while both are centered heavily about\n",
    "# the mean of 5, the most informed pmf graph is more evenly distributed, as the ends have higher probabilities than \n",
    "# those of the least informed group.\n",
    "\n",
    "# This would suggest that the most informed group has more people trending towards the polar ends of the political\n",
    "# spectrum than the least informed group, meaning that they are more polarized as a group.\n",
    "# make_and_plot_pmf(sections[3].lrscale, 'most informed ')\n",
    "pmf1 = thinkstats2.Pmf(sections[0].lrscale, \"least informed\")\n",
    "pmf2 = thinkstats2.Pmf(sections[3].lrscale, \"most informed\")\n",
    "pmfs = [pmf1, pmf2]\n",
    "thinkplot.PrePlot(2, cols=2)\n",
    "thinkplot.Hist(pmf1)\n",
    "thinkplot.Config(xlabel='left vs right', ylabel='PMF', xlim=[-1, 11])\n",
    "\n",
    "thinkplot.PrePlot(2)\n",
    "thinkplot.SubPlot(2)\n",
    "thinkplot.Hist(pmf2)\n",
    "thinkplot.Config(xlabel='left vs right', ylabel=\"PMF\", xlim=[-1, 11], ylim=[0, .4])"
   ]
  },
  {
   "cell_type": "code",
   "execution_count": 50,
   "metadata": {
    "collapsed": false
   },
   "outputs": [
    {
     "data": {
      "text/plain": [
       "(2.0973709662842541,\n",
       " 2.2101570571373443,\n",
       " 2.3528400755780194,\n",
       " 2.6314610643237533)"
      ]
     },
     "execution_count": 50,
     "metadata": {},
     "output_type": "execute_result"
    }
   ],
   "source": [
    "#The standard deviations also prove the above idea, as the higher informed people have a higher spread out distribution\n",
    "#than the lower informed people\n",
    "\n",
    "sections[0].lrscale.std(), sections[1].lrscale.std(), sections[2].lrscale.std(), sections[3].lrscale.std()"
   ]
  },
  {
   "cell_type": "markdown",
   "metadata": {},
   "source": [
    "### All code below this was used to better understand the data and the population as a whole, and while may have been considered was ultimately not used in the report"
   ]
  },
  {
   "cell_type": "code",
   "execution_count": null,
   "metadata": {
    "collapsed": false,
    "scrolled": true
   },
   "outputs": [],
   "source": [
    "#A general visualzation of the entire surveyed population under polintr, or the respondent's political interest level\n",
    "series = ess5['polintr'].dropna()\n",
    "make_and_plot_pmf(series, 'political interest')"
   ]
  },
  {
   "cell_type": "code",
   "execution_count": null,
   "metadata": {
    "collapsed": false,
    "scrolled": true
   },
   "outputs": [],
   "source": [
    "#This plots the CDF of the four sections under polintr\n",
    "#Note that for this category, there's a pretty big trend, where\n",
    "#the very informed seem to have a large interest in politics, and the least informed seem to have little\n",
    "#interest.\n",
    "\n",
    "make_and_plot_cdf(sections, 'polintr', 'political interest')    "
   ]
  },
  {
   "cell_type": "code",
   "execution_count": null,
   "metadata": {
    "collapsed": false
   },
   "outputs": [],
   "source": [
    "#The means confirm the above idea.\n",
    "\n",
    "mean_comparison(sections, 'polintr')"
   ]
  },
  {
   "cell_type": "code",
   "execution_count": null,
   "metadata": {
    "collapsed": false
   },
   "outputs": [],
   "source": [
    "# the Cohen Effect Size is pretty big for this one, showing a fairly large difference in political interest from\n",
    "#different levels of information\n",
    "\n",
    "cohen_effect_size(sections[0].polintr, sections[3].polintr)"
   ]
  },
  {
   "cell_type": "code",
   "execution_count": null,
   "metadata": {
    "collapsed": false,
    "scrolled": false
   },
   "outputs": [],
   "source": [
    "#A general visualzation of the entire surveyed population under happy, or how happy each respondent is\n",
    "\n",
    "series = ess5['happy'].dropna()\n",
    "make_and_plot_pmf(series, 'how happy')"
   ]
  },
  {
   "cell_type": "code",
   "execution_count": null,
   "metadata": {
    "collapsed": false
   },
   "outputs": [],
   "source": [
    "#This plots the CDF of the four sections under happy\n",
    "#Note that for this category, there's a noticeable trend, where\n",
    "#the very informed seem to be less happy, and the least informed seem to be more happy\n",
    "\n",
    "make_and_plot_cdf(sections, 'happy', 'happiness')    \n"
   ]
  },
  {
   "cell_type": "code",
   "execution_count": null,
   "metadata": {
    "collapsed": false
   },
   "outputs": [],
   "source": [
    "#The means confirm the above idea.\n",
    "\n",
    "mean_comparison(sections, 'happy')"
   ]
  },
  {
   "cell_type": "code",
   "execution_count": null,
   "metadata": {
    "collapsed": false
   },
   "outputs": [],
   "source": [
    "# the Cohen Effect Size is not super significant, but there is definitely a difference between the two.\n",
    "\n",
    "cohen_effect_size(sections[0].happy, sections[3].happy)"
   ]
  },
  {
   "cell_type": "code",
   "execution_count": null,
   "metadata": {
    "collapsed": false,
    "scrolled": true
   },
   "outputs": [],
   "source": [
    "#A general visualzation of the entire surveyed population under hinctnta, or the total household income of each\n",
    "#respondent\n",
    "\n",
    "series = ess5['hinctnta'].dropna()\n",
    "make_and_plot_pmf(series, 'total household income')"
   ]
  },
  {
   "cell_type": "code",
   "execution_count": null,
   "metadata": {
    "collapsed": false,
    "scrolled": true
   },
   "outputs": [],
   "source": [
    "#This plots the CDF of the four sections under hinctnta\n",
    "#Note that for this category, there's a noticeable trend, where\n",
    "#the very informed seem to occupy the lower deciles, and the least informed seem to occupy the higher deciles\n",
    "\n",
    "make_and_plot_cdf(sections, 'hinctnta', 'household income')    "
   ]
  },
  {
   "cell_type": "code",
   "execution_count": null,
   "metadata": {
    "collapsed": false,
    "scrolled": true
   },
   "outputs": [],
   "source": [
    "#The means confirm the above idea.\n",
    "\n",
    "mean_comparison(sections, 'hinctnta')"
   ]
  },
  {
   "cell_type": "code",
   "execution_count": null,
   "metadata": {
    "collapsed": false
   },
   "outputs": [],
   "source": [
    "# the Cohen Effect Size is decently significant, not the biggest, but not small enough that its effect can't be ignored\n",
    "\n",
    "cohen_effect_size(sections[0].hinctnta, sections[3].hinctnta)"
   ]
  },
  {
   "cell_type": "code",
   "execution_count": null,
   "metadata": {
    "collapsed": false,
    "scrolled": false
   },
   "outputs": [],
   "source": [
    "#A general visualzation of the entire surveyed population under gincdif, or how much a respondent agrees with the idea\n",
    "#that the government should reduce income inequality\n",
    "\n",
    "series = ess5['gincdif'].dropna()\n",
    "make_and_plot_pmf(series, 'gov should reduce income inequality')"
   ]
  },
  {
   "cell_type": "code",
   "execution_count": null,
   "metadata": {
    "collapsed": false
   },
   "outputs": [],
   "source": [
    "#This plots the CDF of the four sections under gincdif\n",
    "#Note that for this category, there's a small trend, as it seems that the more informed are more likely to agree\n",
    "\n",
    "make_and_plot_cdf(sections, 'gincdif', 'gov should reduce income inequality')    "
   ]
  },
  {
   "cell_type": "code",
   "execution_count": null,
   "metadata": {
    "collapsed": false
   },
   "outputs": [],
   "source": [
    "#The means confirm the above idea.\n",
    "\n",
    "mean_comparison(sections, 'gincdif')"
   ]
  },
  {
   "cell_type": "code",
   "execution_count": null,
   "metadata": {
    "collapsed": false
   },
   "outputs": [],
   "source": [
    "# the Cohen Effect Size is pretty small, so this is not a super relevant correlation, but a difference does exist\n",
    "cohen_effect_size(sections[0].gincdif, sections[3].gincdif)"
   ]
  },
  {
   "cell_type": "code",
   "execution_count": null,
   "metadata": {
    "collapsed": false,
    "scrolled": true
   },
   "outputs": [],
   "source": [
    "#A general visualzation of the entire surveyed population under freehms, or how much a respondent agrees with the idea\n",
    "#that gays and lesbians should be allowed to live their lives however they wish\n",
    "\n",
    "series = ess5['freehms'].dropna()\n",
    "make_and_plot_pmf(series, 'gay and lesbians free')"
   ]
  },
  {
   "cell_type": "code",
   "execution_count": null,
   "metadata": {
    "collapsed": false,
    "scrolled": true
   },
   "outputs": [],
   "source": [
    "#This plots the CDF of the four sections under freehms\n",
    "#Note that for this category, there's a trend, but interestingly enough it's in the other direction, where\n",
    "#the more informed disagree with freedom for homosexuals, and the less informed agree more\n",
    "\n",
    "make_and_plot_cdf(sections, 'freehms', 'gays and lesbians free')  "
   ]
  },
  {
   "cell_type": "code",
   "execution_count": null,
   "metadata": {
    "collapsed": false
   },
   "outputs": [],
   "source": [
    "#The means confirm the above idea.\n",
    "\n",
    "mean_comparison(sections, 'freehms')"
   ]
  },
  {
   "cell_type": "code",
   "execution_count": null,
   "metadata": {
    "collapsed": false
   },
   "outputs": [],
   "source": [
    "# the Cohen Effect Size is again not really significant, but one could make the argument that it does exist to a degree\n",
    "\n",
    "cohen_effect_size(sections[0].freehms, sections[3].freehms)"
   ]
  },
  {
   "cell_type": "code",
   "execution_count": null,
   "metadata": {
    "collapsed": false,
    "scrolled": true
   },
   "outputs": [],
   "source": [
    "#A general visualzation of the entire surveyed population under imdfetn, or how much a respondent agrees with the idea\n",
    "#that immigrants of a different race than them should be allowed to live in their country\n",
    "\n",
    "series = ess5['imdfetn'].dropna()\n",
    "make_and_plot_pmf(series, 'allow immigrants of diff race')"
   ]
  },
  {
   "cell_type": "code",
   "execution_count": null,
   "metadata": {
    "collapsed": false,
    "scrolled": false
   },
   "outputs": [],
   "source": [
    "#This plots the CDF of the four sections under imdfetn\n",
    "#Note that for this category, there's not much of a trend, as the rankings of the four sections seem to\n",
    "#interchange between the answers, perhaps with the more informed even disagreeing slightly more\n",
    "\n",
    "make_and_plot_cdf(sections, 'imdfetn', 'allow immigrants of different races')"
   ]
  },
  {
   "cell_type": "code",
   "execution_count": null,
   "metadata": {
    "collapsed": false,
    "scrolled": true
   },
   "outputs": [],
   "source": [
    "#The means confirm the above idea.\n",
    "\n",
    "mean_comparison(sections, 'imdfetn')"
   ]
  },
  {
   "cell_type": "code",
   "execution_count": null,
   "metadata": {
    "collapsed": false
   },
   "outputs": [],
   "source": [
    "# the Cohen Effect Size is shows that there's not much difference between low informed and high informed on this matter\n",
    "\n",
    "cohen_effect_size(sections[0].imdfetn, sections[3].imdfetn)"
   ]
  },
  {
   "cell_type": "code",
   "execution_count": null,
   "metadata": {
    "collapsed": false,
    "scrolled": true
   },
   "outputs": [],
   "source": [
    "#A general visualzation of the entire surveyed population under scnsenv, or how much a respondent agrees with the idea\n",
    "#that science can solve environmental problems\n",
    "\n",
    "series = ess5['scnsenv'].dropna()\n",
    "make_and_plot_pmf(series, 'science can solve environmental probs')"
   ]
  },
  {
   "cell_type": "code",
   "execution_count": null,
   "metadata": {
    "collapsed": false,
    "scrolled": true
   },
   "outputs": [],
   "source": [
    "#This plots the CDF of the four sections under scnsenv\n",
    "#Note that for this category, there's a trend apparent, where the more informed seem to agree more with environmental\n",
    "#policies and the less informed seeming to agree less\n",
    "\n",
    "make_and_plot_cdf(sections, 'scnsenv', 'science can solve environmental probs')  "
   ]
  },
  {
   "cell_type": "code",
   "execution_count": null,
   "metadata": {
    "collapsed": false,
    "scrolled": true
   },
   "outputs": [],
   "source": [
    "#The means confirm the above idea.\n",
    "\n",
    "mean_comparison(sections, 'scnsenv')"
   ]
  },
  {
   "cell_type": "code",
   "execution_count": null,
   "metadata": {
    "collapsed": false
   },
   "outputs": [],
   "source": [
    "# the Cohen Effect Size is not super significant, but once again as the others above there does seem to exist a small\n",
    "#correlation that means a small difference between the more informed and the less informed\n",
    "\n",
    "cohen_effect_size(sections[0].scnsenv, sections[3].scnsenv)"
   ]
  },
  {
   "cell_type": "code",
   "execution_count": null,
   "metadata": {
    "collapsed": false
   },
   "outputs": [],
   "source": [
    "#A general visualzation of the entire surveyed population under prtyban, or how much a respondent agrees with the idea\n",
    "#that parties that wish to overthrow democracy should be banned\n",
    "\n",
    "series = ess5['prtyban'].dropna()\n",
    "make_and_plot_pmf(series, 'ban parties that overthrow democracy')"
   ]
  },
  {
   "cell_type": "code",
   "execution_count": null,
   "metadata": {
    "collapsed": false
   },
   "outputs": [],
   "source": [
    "#This plots the CDF of the four sections under prtyban\n",
    "#Note that for this category, there's not much of a trend, as it seems that all the sections have varying opinions\n",
    "#on this idea\n",
    "\n",
    "make_and_plot_cdf(sections, 'prtyban', 'ban parties who overthrow democracy')  "
   ]
  },
  {
   "cell_type": "code",
   "execution_count": null,
   "metadata": {
    "collapsed": false
   },
   "outputs": [],
   "source": [
    "#The means confirm the above idea.\n",
    "\n",
    "mean_comparison(sections, 'prtyban')"
   ]
  },
  {
   "cell_type": "code",
   "execution_count": null,
   "metadata": {
    "collapsed": false
   },
   "outputs": [],
   "source": [
    "# the Cohen Effect Size basically says there's no significance.\n",
    "\n",
    "cohen_effect_size(sections[0].prtyban, sections[3].prtyban)"
   ]
  },
  {
   "cell_type": "code",
   "execution_count": null,
   "metadata": {
    "collapsed": true
   },
   "outputs": [],
   "source": []
  }
 ],
 "metadata": {
  "kernelspec": {
   "display_name": "Python 2",
   "language": "python",
   "name": "python2"
  },
  "language_info": {
   "codemirror_mode": {
    "name": "ipython",
    "version": 2
   },
   "file_extension": ".py",
   "mimetype": "text/x-python",
   "name": "python",
   "nbconvert_exporter": "python",
   "pygments_lexer": "ipython2",
   "version": "2.7.12"
  }
 },
 "nbformat": 4,
 "nbformat_minor": 0
}
